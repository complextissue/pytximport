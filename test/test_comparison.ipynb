{
 "cells": [
  {
   "cell_type": "markdown",
   "metadata": {},
   "source": [
    "# Comparison with the R version of `tximport`"
   ]
  },
  {
   "cell_type": "markdown",
   "metadata": {},
   "source": [
    "This file is included to provide the code used to generate the output from `tximport` that the test in `test_correctness.py` compares against. It will note be automatically run by `pytest` and the assertions provided at the end are redundant, since they are already included in `test_correctness.py`."
   ]
  },
  {
   "cell_type": "code",
   "execution_count": 1,
   "metadata": {},
   "outputs": [
    {
     "name": "stdout",
     "output_type": "stream",
     "text": [
      "\n",
      "\u001b[1m[\u001b[0m\u001b[34;49mnotice\u001b[0m\u001b[1;39;49m]\u001b[0m\u001b[39;49m A new release of pip is available: \u001b[0m\u001b[31;49m24.1.2\u001b[0m\u001b[39;49m -> \u001b[0m\u001b[32;49m24.2\u001b[0m\n",
      "\u001b[1m[\u001b[0m\u001b[34;49mnotice\u001b[0m\u001b[1;39;49m]\u001b[0m\u001b[39;49m To update, run: \u001b[0m\u001b[32;49mpip install --upgrade pip\u001b[0m\n"
     ]
    }
   ],
   "source": [
    "!pip install rpy2==3.4.5 -q"
   ]
  },
  {
   "cell_type": "code",
   "execution_count": 2,
   "metadata": {},
   "outputs": [
    {
     "name": "stdout",
     "output_type": "stream",
     "text": [
      "\u001b[1mrpy2 version:\u001b[0m\n",
      "3.4.5\n",
      "\u001b[1mPython version:\u001b[0m\n",
      "3.10.14 | packaged by conda-forge | (main, Mar 20 2024, 12:51:49) [Clang 16.0.6 ]\n",
      "\u001b[1mLooking for R's HOME:\u001b[0m\n",
      "    Environment variable R_HOME: None\n",
      "    Calling `R RHOME`: /Library/Frameworks/R.framework/Resources\n",
      "    Environment variable R_LIBS_USER: None\n",
      "\u001b[1mR's additions to LD_LIBRARY_PATH:\u001b[0m\n",
      "\n",
      "\u001b[1mR version:\u001b[0m\n",
      "    In the PATH: R version 4.3.1 (2023-06-16) -- \"Beagle Scouts\"\n",
      "    Loading R library from rpy2: OK\n",
      "\u001b[1mAdditional directories to load R packages from:\u001b[0m\n",
      "None\n",
      "\u001b[1mC extension compilation:\u001b[0m\n",
      "  include:\n",
      "  ['/Library/Frameworks/R.framework/Resources/include']\n",
      "  libraries:\n",
      "  ['pcre2-8', 'lzma', 'bz2', 'z', 'icucore', 'dl', 'm', 'iconv']\n",
      "  library_dirs:\n",
      "  ['/opt/R/arm64/lib', '/opt/R/arm64/lib']\n",
      "  extra_compile_args:\n",
      "  []\n",
      "  extra_link_args:\n",
      "  ['-F/Library/Frameworks/R.framework/..', '-framework', 'R']\n"
     ]
    }
   ],
   "source": [
    "!python3 -m rpy2.situation"
   ]
  },
  {
   "cell_type": "code",
   "execution_count": 3,
   "metadata": {},
   "outputs": [],
   "source": [
    "%load_ext rpy2.ipython"
   ]
  },
  {
   "cell_type": "code",
   "execution_count": 4,
   "metadata": {},
   "outputs": [
    {
     "name": "stdout",
     "output_type": "stream",
     "text": [
      "[1] \"R version 4.3.1 (2023-06-16)\"\n"
     ]
    }
   ],
   "source": [
    "%%R\n",
    "R.version.string"
   ]
  },
  {
   "cell_type": "code",
   "execution_count": 5,
   "metadata": {},
   "outputs": [
    {
     "name": "stdout",
     "output_type": "stream",
     "text": [
      "Rows: 244191 Columns: 2\n",
      "── Column specification ────────────────────────────────────────────────────────\n",
      "Delimiter: \"\\t\"\n",
      "chr (2): transcript_id, gene_id\n",
      "\n",
      "ℹ Use `spec()` to retrieve the full column specification for this data.\n",
      "ℹ Specify the column types or set `show_col_types = FALSE` to quiet this message.\n"
     ]
    },
    {
     "name": "stderr",
     "output_type": "stream",
     "text": [
      "R[write to console]: reading in files with read_tsv\n",
      "\n",
      "R[write to console]: 1 \n",
      "R[write to console]: 2 \n",
      "R[write to console]: 3 \n",
      "R[write to console]: 4 \n",
      "R[write to console]: \n",
      "\n",
      "R[write to console]: transcripts missing from tx2gene: 31380\n",
      "\n",
      "R[write to console]: summarizing abundance\n",
      "\n",
      "R[write to console]: summarizing counts\n",
      "\n",
      "R[write to console]: summarizing length\n",
      "\n",
      "R[write to console]: reading in files with read_tsv\n",
      "\n",
      "R[write to console]: 1 \n",
      "R[write to console]: 2 \n",
      "R[write to console]: 3 \n",
      "R[write to console]: 4 \n",
      "R[write to console]: \n",
      "\n",
      "R[write to console]: transcripts missing from tx2gene: 31380\n",
      "\n",
      "R[write to console]: summarizing abundance\n",
      "\n",
      "R[write to console]: summarizing counts\n",
      "\n",
      "R[write to console]: summarizing length\n",
      "\n",
      "R[write to console]: reading in files with read_tsv\n",
      "\n",
      "R[write to console]: 1 \n",
      "R[write to console]: 2 \n",
      "R[write to console]: 3 \n",
      "R[write to console]: 4 \n",
      "R[write to console]: \n",
      "\n",
      "R[write to console]: transcripts missing from tx2gene: 31380\n",
      "\n",
      "R[write to console]: summarizing abundance\n",
      "\n",
      "R[write to console]: summarizing counts\n",
      "\n",
      "R[write to console]: summarizing length\n",
      "\n",
      "R[write to console]: 1 \n",
      "R[write to console]: 2 \n",
      "R[write to console]: 3 \n",
      "R[write to console]: 4 \n",
      "R[write to console]: \n",
      "\n",
      "R[write to console]: transcripts missing from tx2gene: 31498\n",
      "\n",
      "R[write to console]: summarizing abundance\n",
      "\n",
      "R[write to console]: summarizing counts\n",
      "\n",
      "R[write to console]: summarizing length\n",
      "\n",
      "R[write to console]: summarizing inferential replicates\n",
      "\n",
      "R[write to console]: reading in files with read_tsv\n",
      "\n",
      "R[write to console]: 1 \n",
      "R[write to console]: 2 \n",
      "R[write to console]: 3 \n",
      "R[write to console]: 4 \n",
      "R[write to console]: \n",
      "\n",
      "R[write to console]: transcripts missing from tx2gene: 31380\n",
      "\n",
      "R[write to console]: summarizing abundance\n",
      "\n",
      "R[write to console]: summarizing counts\n",
      "\n",
      "R[write to console]: summarizing length\n",
      "\n",
      "R[write to console]: summarizing inferential replicates\n",
      "\n",
      "R[write to console]: 1 \n",
      "R[write to console]: 2 \n",
      "R[write to console]: 3 \n",
      "R[write to console]: 4 \n",
      "R[write to console]: \n",
      "\n",
      "R[write to console]: reading in files with read_tsv\n",
      "\n",
      "R[write to console]: 1 \n",
      "R[write to console]: 2 \n",
      "R[write to console]: 3 \n",
      "R[write to console]: 4 \n",
      "R[write to console]: \n",
      "\n"
     ]
    }
   ],
   "source": [
    "%%R\n",
    "library(tximport)\n",
    "library(readr)\n",
    "dir <- \"./data/fabry_disease\"\n",
    "tx2gene <- read_tsv(file.path(dir, \"transcript_gene_mapping_human.tsv\"))\n",
    "rowMedians <- function(x) {\n",
    "    apply(x, 1, median, na.rm = TRUE)\n",
    "}\n",
    "files <- c(\n",
    "    file.path(dir, \"SRR16504309_wt/quant.sf\"),\n",
    "    file.path(dir, \"SRR16504310_wt/quant.sf\"),\n",
    "    file.path(dir, \"SRR16504311_ko/quant.sf\"),\n",
    "    file.path(dir, \"SRR16504312_ko/quant.sf\")\n",
    ")\n",
    "countsFromAbundanceOptions <- c(\"no\", \"scaledTPM\", \"lengthScaledTPM\")\n",
    "for (idx in seq_along(countsFromAbundanceOptions)) {\n",
    "    txi <- tximport(\n",
    "        files,\n",
    "        type = \"salmon\",\n",
    "        tx2gene = tx2gene,\n",
    "        countsFromAbundance = countsFromAbundanceOptions[idx],\n",
    "        dropInfReps = TRUE,\n",
    "        ignoreTxVersion = TRUE,\n",
    "        ignoreAfterBar = TRUE\n",
    "    )\n",
    "    writePath <- file.path(dir, \"counts_tximport.csv\")\n",
    "    if (!is.null(countsFromAbundanceOptions[idx])) {\n",
    "        writePath <- gsub(\".csv\", paste0(\"_\", countsFromAbundanceOptions[idx], \".csv\"), writePath)\n",
    "    }\n",
    "    write.csv(txi$counts, writePath)\n",
    "}\n",
    "dataTypeOptions <- c(\"kallisto\", \"salmon\")\n",
    "for (idx in seq_along(dataTypeOptions)) {\n",
    "\n",
    "    if (dataTypeOptions[idx] == \"kallisto\") {\n",
    "        files <- c(\n",
    "            file.path(dir, \"SRR16504309_wt/abundance.h5\"),\n",
    "            file.path(dir, \"SRR16504310_wt/abundance.h5\"),\n",
    "            file.path(dir, \"SRR16504311_ko/abundance.h5\"),\n",
    "            file.path(dir, \"SRR16504312_ko/abundance.h5\")\n",
    "        )\n",
    "    } else {\n",
    "        files <- c(\n",
    "            file.path(dir, \"SRR16504309_wt/quant.sf\"),\n",
    "            file.path(dir, \"SRR16504310_wt/quant.sf\"),\n",
    "            file.path(dir, \"SRR16504311_ko/quant.sf\"),\n",
    "            file.path(dir, \"SRR16504312_ko/quant.sf\")\n",
    "        )\n",
    "    }\n",
    "\n",
    "    txi <- tximport(\n",
    "        files,\n",
    "        type = dataTypeOptions[idx],\n",
    "        tx2gene = tx2gene,\n",
    "        countsFromAbundance = \"no\",\n",
    "        dropInfReps = FALSE,\n",
    "        infRepStat = rowMedians,\n",
    "        ignoreTxVersion = TRUE,\n",
    "        ignoreAfterBar = TRUE\n",
    "    )\n",
    "    writePath <- file.path(dir, \"counts_tximport_bootstrap.csv\")\n",
    "    writePath <- gsub(\".csv\", paste0(\"_\", dataTypeOptions[idx], \".csv\"), writePath)\n",
    "    write.csv(txi$counts, writePath)\n",
    "}\n",
    "for (idx in seq_along(dataTypeOptions)) {\n",
    "\n",
    "    if (dataTypeOptions[idx] == \"kallisto\") {\n",
    "        files <- c(\n",
    "            file.path(dir, \"SRR16504309_wt/abundance.h5\"),\n",
    "            file.path(dir, \"SRR16504310_wt/abundance.h5\"),\n",
    "            file.path(dir, \"SRR16504311_ko/abundance.h5\"),\n",
    "            file.path(dir, \"SRR16504312_ko/abundance.h5\")\n",
    "        )\n",
    "    } else {\n",
    "        files <- c(\n",
    "            file.path(dir, \"SRR16504309_wt/quant.sf\"),\n",
    "            file.path(dir, \"SRR16504310_wt/quant.sf\"),\n",
    "            file.path(dir, \"SRR16504311_ko/quant.sf\"),\n",
    "            file.path(dir, \"SRR16504312_ko/quant.sf\")\n",
    "        )\n",
    "    }\n",
    "\n",
    "    txi <- tximport(\n",
    "        files,\n",
    "        type = dataTypeOptions[idx],\n",
    "        tx2gene = tx2gene,\n",
    "        countsFromAbundance = \"no\",\n",
    "        txOut = TRUE,\n",
    "        dropInfReps = FALSE,\n",
    "        infRepStat = rowMedians,\n",
    "        ignoreTxVersion = TRUE,\n",
    "        ignoreAfterBar = TRUE\n",
    "    )\n",
    "    writePath <- file.path(dir, \"counts_tximport_bootstrap_transcripts.csv\")\n",
    "    writePath <- gsub(\".csv\", paste0(\"_\", dataTypeOptions[idx], \".csv\"), writePath)\n",
    "    write.csv(txi$counts, writePath)\n",
    "}"
   ]
  },
  {
   "cell_type": "code",
   "execution_count": 6,
   "metadata": {},
   "outputs": [
    {
     "name": "stdout",
     "output_type": "stream",
     "text": [
      "2024-07-29 16:12:29,433: Starting the import.\n",
      "Reading quantification files: 4it [00:01,  2.36it/s]\n",
      "2024-07-29 16:12:31,270: Converting transcript-level expression to gene-level expression.\n",
      "2024-07-29 16:12:31,770: Not all transcripts are present in the mapping. 31380 out of 253181 missing. Removing the missing transcripts.\n",
      "2024-07-29 16:12:32,091: Matching gene_ids.\n",
      "2024-07-29 16:12:32,294: Creating gene abundance.\n",
      "2024-07-29 16:12:32,612: Creating gene counts.\n",
      "2024-07-29 16:12:32,613: Creating lengths.\n",
      "2024-07-29 16:12:32,753: Replacing missing lengths.\n",
      "2024-07-29 16:12:40,884: Creating gene expression dataset.\n",
      "2024-07-29 16:12:40,923: Saving the gene-level expression to: data/fabry_disease/counts_pytximport_no.csv.\n",
      "2024-07-29 16:12:41,014: Finished the import in 11.58 seconds.\n",
      "2024-07-29 16:12:42,764: Starting the import.\n",
      "Reading quantification files: 4it [00:01,  2.24it/s]\n",
      "2024-07-29 16:12:44,690: Converting transcript-level expression to gene-level expression.\n",
      "2024-07-29 16:12:45,186: Not all transcripts are present in the mapping. 31380 out of 253181 missing. Removing the missing transcripts.\n",
      "2024-07-29 16:12:45,540: Matching gene_ids.\n",
      "2024-07-29 16:12:45,772: Creating gene abundance.\n",
      "2024-07-29 16:12:46,090: Creating gene counts.\n",
      "2024-07-29 16:12:46,091: Creating lengths.\n",
      "2024-07-29 16:12:46,241: Replacing missing lengths.\n",
      "2024-07-29 16:12:54,765: Recreating gene counts from abundances.\n",
      "2024-07-29 16:12:54,765: Setting the counts to scaled TPM.\n",
      "2024-07-29 16:12:54,766: Creating gene expression dataset.\n",
      "2024-07-29 16:12:54,803: Saving the gene-level expression to: data/fabry_disease/counts_pytximport_scaledTPM.csv.\n",
      "2024-07-29 16:12:54,921: Finished the import in 12.16 seconds.\n",
      "2024-07-29 16:12:56,729: Starting the import.\n",
      "Reading quantification files: 4it [00:01,  2.22it/s]\n",
      "2024-07-29 16:12:58,693: Converting transcript-level expression to gene-level expression.\n",
      "2024-07-29 16:12:59,167: Not all transcripts are present in the mapping. 31380 out of 253181 missing. Removing the missing transcripts.\n",
      "2024-07-29 16:12:59,501: Matching gene_ids.\n",
      "2024-07-29 16:12:59,712: Creating gene abundance.\n",
      "2024-07-29 16:13:00,053: Creating gene counts.\n",
      "2024-07-29 16:13:00,053: Creating lengths.\n",
      "2024-07-29 16:13:00,187: Replacing missing lengths.\n",
      "2024-07-29 16:13:08,305: Recreating gene counts from abundances.\n",
      "2024-07-29 16:13:08,305: Setting counts to length scaled TPM.\n",
      "2024-07-29 16:13:08,309: Creating gene expression dataset.\n",
      "2024-07-29 16:13:08,344: Saving the gene-level expression to: data/fabry_disease/counts_pytximport_lengthScaledTPM.csv.\n",
      "2024-07-29 16:13:08,462: Finished the import in 11.73 seconds.\n"
     ]
    }
   ],
   "source": [
    "!pytximport -i ./data/fabry_disease/SRR16504309_wt/quant.sf -i ./data/fabry_disease/SRR16504310_wt/quant.sf -i ./data/fabry_disease/SRR16504311_ko/quant.sf -i ./data/fabry_disease/SRR16504312_ko/quant.sf -t salmon -m ./data/fabry_disease/transcript_gene_mapping_human.tsv -ow -o ./data/fabry_disease/counts_pytximport_no.csv\n",
    "!pytximport -i ./data/fabry_disease/SRR16504309_wt/quant.sf -i ./data/fabry_disease/SRR16504310_wt/quant.sf -i ./data/fabry_disease/SRR16504311_ko/quant.sf -i ./data/fabry_disease/SRR16504312_ko/quant.sf -t salmon -m ./data/fabry_disease/transcript_gene_mapping_human.tsv -ow -o ./data/fabry_disease/counts_pytximport_scaledTPM.csv -c scaled_tpm\n",
    "!pytximport -i ./data/fabry_disease/SRR16504309_wt/quant.sf -i ./data/fabry_disease/SRR16504310_wt/quant.sf -i ./data/fabry_disease/SRR16504311_ko/quant.sf -i ./data/fabry_disease/SRR16504312_ko/quant.sf -t salmon -m ./data/fabry_disease/transcript_gene_mapping_human.tsv -ow -o ./data/fabry_disease/counts_pytximport_lengthScaledTPM.csv -c length_scaled_tpm"
   ]
  },
  {
   "cell_type": "code",
   "execution_count": 7,
   "metadata": {},
   "outputs": [],
   "source": [
    "import pandas as pd\n",
    "\n",
    "counts_tximport_no = pd.read_csv(\"./data/fabry_disease/counts_tximport_no.csv\")\n",
    "counts_tximport_scaledTPM = pd.read_csv(\"./data/fabry_disease/counts_tximport_scaledTPM.csv\")\n",
    "counts_tximport_lengthScaledTPM = pd.read_csv(\"./data/fabry_disease/counts_tximport_lengthScaledTPM.csv\")\n",
    "\n",
    "counts_pytximport_no = pd.read_csv(\"./data/fabry_disease/counts_pytximport_no.csv\")\n",
    "counts_pytximport_scaledTPM = pd.read_csv(\"./data/fabry_disease/counts_pytximport_scaledTPM.csv\")\n",
    "counts_pytximport_lengthScaledTPM = pd.read_csv(\"./data/fabry_disease/counts_pytximport_lengthScaledTPM.csv\")\n",
    "counts_pytximport_no.columns = counts_tximport_no.columns\n",
    "counts_pytximport_scaledTPM.columns = counts_tximport_scaledTPM.columns\n",
    "counts_pytximport_lengthScaledTPM.columns = counts_tximport_lengthScaledTPM.columns\n",
    "\n",
    "pd.testing.assert_frame_equal(counts_tximport_no, counts_pytximport_no)\n",
    "pd.testing.assert_frame_equal(counts_tximport_scaledTPM, counts_pytximport_scaledTPM)\n",
    "pd.testing.assert_frame_equal(counts_tximport_lengthScaledTPM, counts_pytximport_lengthScaledTPM)"
   ]
  },
  {
   "cell_type": "markdown",
   "metadata": {},
   "source": [
    "## Compare outputs for transcript-level summarization"
   ]
  },
  {
   "cell_type": "code",
   "execution_count": 8,
   "metadata": {},
   "outputs": [
    {
     "name": "stdout",
     "output_type": "stream",
     "text": [
      "Rows: 244191 Columns: 2\n",
      "── Column specification ────────────────────────────────────────────────────────\n",
      "Delimiter: \"\\t\"\n",
      "chr (2): transcript_id, gene_id\n",
      "\n",
      "ℹ Use `spec()` to retrieve the full column specification for this data.\n",
      "ℹ Specify the column types or set `show_col_types = FALSE` to quiet this message.\n"
     ]
    },
    {
     "name": "stderr",
     "output_type": "stream",
     "text": [
      "R[write to console]: reading in files with read_tsv\n",
      "\n",
      "R[write to console]: 1 \n",
      "R[write to console]: \n",
      "\n",
      "R[write to console]: reading in files with read_tsv\n",
      "\n",
      "R[write to console]: 1 \n",
      "R[write to console]: \n",
      "\n"
     ]
    }
   ],
   "source": [
    "%%R\n",
    "dir <- \"./data/salmon\"\n",
    "files_protein_coding <- c(\n",
    "  file.path(dir, \"quant.sf\")\n",
    ")\n",
    "tx2gene <- read_tsv(file.path(\"./data/fabry_disease\", \"transcript_gene_mapping_human.tsv\"))\n",
    "countsFromAbundanceOptions <- c(\"scaledTPM\", \"dtuScaledTPM\")\n",
    "for (idx in seq_along(countsFromAbundanceOptions)) {\n",
    "    txi <- tximport(\n",
    "        files_protein_coding,\n",
    "        type = \"salmon\",\n",
    "        tx2gene = tx2gene,\n",
    "        txOut = TRUE,\n",
    "        countsFromAbundance = countsFromAbundanceOptions[idx],\n",
    "        ignoreTxVersion = TRUE,\n",
    "        ignoreAfterBar = TRUE\n",
    "    )\n",
    "    writePath <- file.path(dir, \"counts_tximport.csv\")\n",
    "    if (!is.null(countsFromAbundanceOptions[idx])) {\n",
    "        writePath <- gsub(\".csv\", paste0(\"_\", countsFromAbundanceOptions[idx], \".csv\"), writePath)\n",
    "    }\n",
    "    write.csv(txi$counts, writePath)\n",
    "}"
   ]
  },
  {
   "cell_type": "code",
   "execution_count": 9,
   "metadata": {},
   "outputs": [
    {
     "name": "stdout",
     "output_type": "stream",
     "text": [
      "2024-07-29 16:13:11,427: Starting the import.\n",
      "Reading quantification files: 1it [00:00, 280.09it/s]\n",
      "2024-07-29 16:13:11,887: Setting counts to length scaled TPM.\n",
      "Traceback (most recent call last):\n",
      "  File \"/Users/au734063/Documents/code/pytximport-publish/pytximport/.venv/bin/pytximport\", line 8, in <module>\n",
      "    sys.exit(cli())\n",
      "  File \"/Users/au734063/Documents/code/pytximport-publish/pytximport/.venv/lib/python3.10/site-packages/click/core.py\", line 1157, in __call__\n",
      "    return self.main(*args, **kwargs)\n",
      "  File \"/Users/au734063/Documents/code/pytximport-publish/pytximport/.venv/lib/python3.10/site-packages/click/core.py\", line 1078, in main\n",
      "    rv = self.invoke(ctx)\n",
      "  File \"/Users/au734063/Documents/code/pytximport-publish/pytximport/.venv/lib/python3.10/site-packages/click/core.py\", line 1434, in invoke\n",
      "    return ctx.invoke(self.callback, **ctx.params)\n",
      "  File \"/Users/au734063/Documents/code/pytximport-publish/pytximport/.venv/lib/python3.10/site-packages/click/core.py\", line 783, in invoke\n",
      "    return __callback(*args, **kwargs)\n",
      "  File \"/Users/au734063/Documents/code/pytximport-publish/pytximport/.venv/lib/python3.10/site-packages/pytximport/_cli.py\", line 154, in cli\n",
      "    tximport(**kwargs)  # type: ignore\n",
      "  File \"/Users/au734063/Documents/code/pytximport-publish/pytximport/.venv/lib/python3.10/site-packages/pytximport/core/_tximport.py\", line 476, in tximport\n",
      "    raise FileExistsError(\n",
      "FileExistsError: The file already exists: data/salmon/counts_pytximport_dtuScaledTPM.csv. Set `save_path_overwrite` to True to overwrite.\n"
     ]
    }
   ],
   "source": [
    "!pytximport -i ./data/salmon/quant.sf -m ./data/fabry_disease/transcript_gene_mapping_human.tsv -o ./data/salmon/counts_pytximport_dtuScaledTPM.csv -t salmon -tx -c dtu_scaled_tpm"
   ]
  },
  {
   "cell_type": "code",
   "execution_count": 10,
   "metadata": {},
   "outputs": [],
   "source": [
    "counts_tximport_dtuScaledTPM = pd.read_csv(\"./data/salmon/counts_tximport_dtuScaledTPM.csv\", index_col=0).sort_index()\n",
    "counts_pytximport_dtuScaledTPM = pd.read_csv(\n",
    "    \"./data/salmon/counts_pytximport_dtuScaledTPM.csv\", index_col=0\n",
    ").sort_index()\n",
    "# cut the transcript version from the index\n",
    "counts_tximport_dtuScaledTPM.index = counts_tximport_dtuScaledTPM.index.str.split(\".\").str[0]\n",
    "counts_pytximport_dtuScaledTPM.columns = counts_tximport_dtuScaledTPM.columns\n",
    "\n",
    "pd.testing.assert_frame_equal(counts_tximport_dtuScaledTPM, counts_pytximport_dtuScaledTPM)"
   ]
  },
  {
   "cell_type": "markdown",
   "metadata": {},
   "source": [
    "## Compare outputs for RSEM"
   ]
  },
  {
   "cell_type": "code",
   "execution_count": 11,
   "metadata": {},
   "outputs": [
    {
     "name": "stdout",
     "output_type": "stream",
     "text": [
      "Rows: 244191 Columns: 2\n",
      "── Column specification ────────────────────────────────────────────────────────\n",
      "Delimiter: \"\\t\"\n",
      "chr (2): transcript_id, gene_id\n",
      "\n",
      "ℹ Use `spec()` to retrieve the full column specification for this data.\n",
      "ℹ Specify the column types or set `show_col_types = FALSE` to quiet this message.\n"
     ]
    },
    {
     "name": "stderr",
     "output_type": "stream",
     "text": [
      "R[write to console]: reading in files with read_tsv\n",
      "\n",
      "R[write to console]: 1 \n",
      "R[write to console]: \n",
      "\n"
     ]
    }
   ],
   "source": [
    "%%R\n",
    "dir <- \"./data/rsem\"\n",
    "files_protein_coding <- c(\n",
    "  file.path(dir, \"test.genes.results.gz\")\n",
    ")\n",
    "tx2gene <- read_tsv(file.path(\"./data/fabry_disease\", \"transcript_gene_mapping_human.tsv\"))\n",
    "countsFromAbundanceOptions <- c(\"no\")\n",
    "for (idx in seq_along(countsFromAbundanceOptions)) {\n",
    "    txi <- tximport(\n",
    "        files_protein_coding,\n",
    "        type = \"rsem\",\n",
    "        tx2gene = tx2gene,\n",
    "        txIn = FALSE,\n",
    "        countsFromAbundance = countsFromAbundanceOptions[idx],\n",
    "        ignoreTxVersion = TRUE,\n",
    "        ignoreAfterBar = TRUE\n",
    "    )\n",
    "    writePath <- file.path(dir, \"counts_tximport.csv\")\n",
    "    if (!is.null(countsFromAbundanceOptions[idx])) {\n",
    "        writePath <- gsub(\".csv\", paste0(\"_\", countsFromAbundanceOptions[idx], \".csv\"), writePath)\n",
    "    }\n",
    "    write.csv(txi$counts, writePath)\n",
    "}"
   ]
  },
  {
   "cell_type": "code",
   "execution_count": null,
   "metadata": {},
   "outputs": [],
   "source": []
  }
 ],
 "metadata": {
  "kernelspec": {
   "display_name": ".venv",
   "language": "python",
   "name": "python3"
  },
  "language_info": {
   "codemirror_mode": {
    "name": "ipython",
    "version": 3
   },
   "file_extension": ".py",
   "mimetype": "text/x-python",
   "name": "python",
   "nbconvert_exporter": "python",
   "pygments_lexer": "ipython3",
   "version": "3.10.14"
  }
 },
 "nbformat": 4,
 "nbformat_minor": 2
}
