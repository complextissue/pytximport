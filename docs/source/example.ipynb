{
 "cells": [
  {
   "cell_type": "markdown",
   "metadata": {},
   "source": [
    "# Vignette"
   ]
  },
  {
   "cell_type": "markdown",
   "metadata": {},
   "source": [
    "This vignette extends the [vignette for the R-version of tximport](https://bioconductor.org/packages/release/bioc/vignettes/tximport/inst/doc/tximport.html). If you are unfamiliar with `tximport` or curious about the motivation behind it, please check it out."
   ]
  },
  {
   "cell_type": "markdown",
   "metadata": {},
   "source": [
    "If you are looking for a full-featured end-to-end workflow for Pythonic bulk RNA-sequencing analysis, check out our [Snakemake workflow](https://github.com/complextissue/snakemake-bulk-rna-seq-workflow/) based on pytximport."
   ]
  },
  {
   "cell_type": "markdown",
   "metadata": {},
   "source": [
    "## Creating your transcript to gene map\n",
    "\n",
    "Here, we will show you how to generate a transcript-to-gene mapping based on the Ensembl reference or a gene transfer format file."
   ]
  },
  {
   "cell_type": "markdown",
   "metadata": {},
   "source": [
    "### Build it from Ensembl"
   ]
  },
  {
   "cell_type": "markdown",
   "metadata": {},
   "source": [
    "This example requires `pybiomart` which is installed together with `pytximport`. Providing a host is optional, for a list of available archives that correspond to Ensembl releases, please consult [https://www.ensembl.org/info/website/archives/index.html](https://www.ensembl.org/info/website/archives/index.html). By default, the transcript ids will be mapped to the `ensembl_gene_id` field. If you prefer to use gene names, choose `external_gene_name`. Be aware that not all proposed transcripts have been assigned a name yet and thus will not be included if you use gene names. The first time you run this function, it may take a few seconds to download the data."
   ]
  },
  {
   "cell_type": "code",
   "execution_count": 1,
   "metadata": {},
   "outputs": [
    {
     "data": {
      "text/html": [
       "<div>\n",
       "<style scoped>\n",
       "    .dataframe tbody tr th:only-of-type {\n",
       "        vertical-align: middle;\n",
       "    }\n",
       "\n",
       "    .dataframe tbody tr th {\n",
       "        vertical-align: top;\n",
       "    }\n",
       "\n",
       "    .dataframe thead th {\n",
       "        text-align: right;\n",
       "    }\n",
       "</style>\n",
       "<table border=\"1\" class=\"dataframe\">\n",
       "  <thead>\n",
       "    <tr style=\"text-align: right;\">\n",
       "      <th></th>\n",
       "      <th>transcript_id</th>\n",
       "      <th>gene_id</th>\n",
       "    </tr>\n",
       "  </thead>\n",
       "  <tbody>\n",
       "    <tr>\n",
       "      <th>0</th>\n",
       "      <td>ENST00000387314</td>\n",
       "      <td>MT-TF</td>\n",
       "    </tr>\n",
       "    <tr>\n",
       "      <th>1</th>\n",
       "      <td>ENST00000389680</td>\n",
       "      <td>MT-RNR1</td>\n",
       "    </tr>\n",
       "    <tr>\n",
       "      <th>2</th>\n",
       "      <td>ENST00000387342</td>\n",
       "      <td>MT-TV</td>\n",
       "    </tr>\n",
       "    <tr>\n",
       "      <th>3</th>\n",
       "      <td>ENST00000387347</td>\n",
       "      <td>MT-RNR2</td>\n",
       "    </tr>\n",
       "    <tr>\n",
       "      <th>4</th>\n",
       "      <td>ENST00000386347</td>\n",
       "      <td>MT-TL1</td>\n",
       "    </tr>\n",
       "  </tbody>\n",
       "</table>\n",
       "</div>"
      ],
      "text/plain": [
       "     transcript_id  gene_id\n",
       "0  ENST00000387314    MT-TF\n",
       "1  ENST00000389680  MT-RNR1\n",
       "2  ENST00000387342    MT-TV\n",
       "3  ENST00000387347  MT-RNR2\n",
       "4  ENST00000386347   MT-TL1"
      ]
     },
     "execution_count": 1,
     "metadata": {},
     "output_type": "execute_result"
    }
   ],
   "source": [
    "from pytximport.utils import create_transcript_gene_map\n",
    "\n",
    "transcript_gene_map_human = create_transcript_gene_map(\n",
    "    species=\"human\",\n",
    "    target_field=\"external_gene_name\",\n",
    ")\n",
    "transcript_gene_map_human.head(5)"
   ]
  },
  {
   "cell_type": "code",
   "execution_count": 2,
   "metadata": {},
   "outputs": [
    {
     "data": {
      "text/html": [
       "<div>\n",
       "<style scoped>\n",
       "    .dataframe tbody tr th:only-of-type {\n",
       "        vertical-align: middle;\n",
       "    }\n",
       "\n",
       "    .dataframe tbody tr th {\n",
       "        vertical-align: top;\n",
       "    }\n",
       "\n",
       "    .dataframe thead th {\n",
       "        text-align: right;\n",
       "    }\n",
       "</style>\n",
       "<table border=\"1\" class=\"dataframe\">\n",
       "  <thead>\n",
       "    <tr style=\"text-align: right;\">\n",
       "      <th></th>\n",
       "      <th>transcript_id</th>\n",
       "      <th>gene_id</th>\n",
       "    </tr>\n",
       "  </thead>\n",
       "  <tbody>\n",
       "    <tr>\n",
       "      <th>0</th>\n",
       "      <td>ENSMUST00000082387</td>\n",
       "      <td>ENSMUSG00000064336</td>\n",
       "    </tr>\n",
       "    <tr>\n",
       "      <th>1</th>\n",
       "      <td>ENSMUST00000082388</td>\n",
       "      <td>ENSMUSG00000064337</td>\n",
       "    </tr>\n",
       "    <tr>\n",
       "      <th>2</th>\n",
       "      <td>ENSMUST00000082389</td>\n",
       "      <td>ENSMUSG00000064338</td>\n",
       "    </tr>\n",
       "    <tr>\n",
       "      <th>3</th>\n",
       "      <td>ENSMUST00000082390</td>\n",
       "      <td>ENSMUSG00000064339</td>\n",
       "    </tr>\n",
       "    <tr>\n",
       "      <th>4</th>\n",
       "      <td>ENSMUST00000082391</td>\n",
       "      <td>ENSMUSG00000064340</td>\n",
       "    </tr>\n",
       "  </tbody>\n",
       "</table>\n",
       "</div>"
      ],
      "text/plain": [
       "        transcript_id             gene_id\n",
       "0  ENSMUST00000082387  ENSMUSG00000064336\n",
       "1  ENSMUST00000082388  ENSMUSG00000064337\n",
       "2  ENSMUST00000082389  ENSMUSG00000064338\n",
       "3  ENSMUST00000082390  ENSMUSG00000064339\n",
       "4  ENSMUST00000082391  ENSMUSG00000064340"
      ]
     },
     "execution_count": 2,
     "metadata": {},
     "output_type": "execute_result"
    }
   ],
   "source": [
    "transcript_gene_map_mouse = create_transcript_gene_map(species=\"mouse\")\n",
    "transcript_gene_map_mouse.head(5)"
   ]
  },
  {
   "cell_type": "markdown",
   "metadata": {},
   "source": [
    "### Use a gene transfer format file"
   ]
  },
  {
   "cell_type": "markdown",
   "metadata": {},
   "source": [
    "If you already have an annotation file in .gtf format (e.g. from the GENCODE or Ensembl references), you can use the `create_transcript_gene_map_from_annotation` function contained in `pytximport.utils` to generate a transcript to gene map. Using an annotation file is considered best practice, as it ensures that your annotation and alignment reference are the same if you download them from the same source, e.g., an Ensembl release.\n",
    "\n",
    "Set `target_field` to `gene_name` to map transcript ids to gene names instead of gene ids. If the transcript does not have a corresponding gene name in the annotation file, it will be mapped to the gene id."
   ]
  },
  {
   "cell_type": "code",
   "execution_count": 3,
   "metadata": {},
   "outputs": [
    {
     "data": {
      "text/html": [
       "<div>\n",
       "<style scoped>\n",
       "    .dataframe tbody tr th:only-of-type {\n",
       "        vertical-align: middle;\n",
       "    }\n",
       "\n",
       "    .dataframe tbody tr th {\n",
       "        vertical-align: top;\n",
       "    }\n",
       "\n",
       "    .dataframe thead th {\n",
       "        text-align: right;\n",
       "    }\n",
       "</style>\n",
       "<table border=\"1\" class=\"dataframe\">\n",
       "  <thead>\n",
       "    <tr style=\"text-align: right;\">\n",
       "      <th></th>\n",
       "      <th>transcript_id</th>\n",
       "      <th>gene_id</th>\n",
       "    </tr>\n",
       "  </thead>\n",
       "  <tbody>\n",
       "    <tr>\n",
       "      <th>0</th>\n",
       "      <td>ENST00000424215</td>\n",
       "      <td>ENSG00000228037</td>\n",
       "    </tr>\n",
       "    <tr>\n",
       "      <th>1</th>\n",
       "      <td>ENST00000511072</td>\n",
       "      <td>PRDM16</td>\n",
       "    </tr>\n",
       "    <tr>\n",
       "      <th>2</th>\n",
       "      <td>ENST00000607632</td>\n",
       "      <td>PRDM16</td>\n",
       "    </tr>\n",
       "    <tr>\n",
       "      <th>3</th>\n",
       "      <td>ENST00000378391</td>\n",
       "      <td>PRDM16</td>\n",
       "    </tr>\n",
       "    <tr>\n",
       "      <th>4</th>\n",
       "      <td>ENST00000514189</td>\n",
       "      <td>PRDM16</td>\n",
       "    </tr>\n",
       "  </tbody>\n",
       "</table>\n",
       "</div>"
      ],
      "text/plain": [
       "     transcript_id          gene_id\n",
       "0  ENST00000424215  ENSG00000228037\n",
       "1  ENST00000511072           PRDM16\n",
       "2  ENST00000607632           PRDM16\n",
       "3  ENST00000378391           PRDM16\n",
       "4  ENST00000514189           PRDM16"
      ]
     },
     "execution_count": 3,
     "metadata": {},
     "output_type": "execute_result"
    }
   ],
   "source": [
    "from pytximport.utils import create_transcript_gene_map_from_annotation\n",
    "\n",
    "transcript_gene_map_from_gtf = create_transcript_gene_map_from_annotation(\n",
    "    \"../../test/data/annotation.gtf\",\n",
    "    target_field=\"gene_name\",\n",
    ")\n",
    "transcript_gene_map_from_gtf.head(5)"
   ]
  },
  {
   "cell_type": "markdown",
   "metadata": {},
   "source": [
    "### Map transcript names to gene names"
   ]
  },
  {
   "cell_type": "markdown",
   "metadata": {},
   "source": [
    "You can also optionally map transcript names to either gene names or gene ids if your data requires it."
   ]
  },
  {
   "cell_type": "code",
   "execution_count": 4,
   "metadata": {},
   "outputs": [
    {
     "data": {
      "text/html": [
       "<div>\n",
       "<style scoped>\n",
       "    .dataframe tbody tr th:only-of-type {\n",
       "        vertical-align: middle;\n",
       "    }\n",
       "\n",
       "    .dataframe tbody tr th {\n",
       "        vertical-align: top;\n",
       "    }\n",
       "\n",
       "    .dataframe thead th {\n",
       "        text-align: right;\n",
       "    }\n",
       "</style>\n",
       "<table border=\"1\" class=\"dataframe\">\n",
       "  <thead>\n",
       "    <tr style=\"text-align: right;\">\n",
       "      <th></th>\n",
       "      <th>transcript_id</th>\n",
       "      <th>gene_id</th>\n",
       "    </tr>\n",
       "  </thead>\n",
       "  <tbody>\n",
       "    <tr>\n",
       "      <th>0</th>\n",
       "      <td>MT-TF-201</td>\n",
       "      <td>MT-TF</td>\n",
       "    </tr>\n",
       "    <tr>\n",
       "      <th>1</th>\n",
       "      <td>MT-RNR1-201</td>\n",
       "      <td>MT-RNR1</td>\n",
       "    </tr>\n",
       "    <tr>\n",
       "      <th>2</th>\n",
       "      <td>MT-TV-201</td>\n",
       "      <td>MT-TV</td>\n",
       "    </tr>\n",
       "    <tr>\n",
       "      <th>3</th>\n",
       "      <td>MT-RNR2-201</td>\n",
       "      <td>MT-RNR2</td>\n",
       "    </tr>\n",
       "    <tr>\n",
       "      <th>4</th>\n",
       "      <td>MT-TL1-201</td>\n",
       "      <td>MT-TL1</td>\n",
       "    </tr>\n",
       "  </tbody>\n",
       "</table>\n",
       "</div>"
      ],
      "text/plain": [
       "  transcript_id  gene_id\n",
       "0     MT-TF-201    MT-TF\n",
       "1   MT-RNR1-201  MT-RNR1\n",
       "2     MT-TV-201    MT-TV\n",
       "3   MT-RNR2-201  MT-RNR2\n",
       "4    MT-TL1-201   MT-TL1"
      ]
     },
     "execution_count": 4,
     "metadata": {},
     "output_type": "execute_result"
    }
   ],
   "source": [
    "transcript_name_gene_map_human = create_transcript_gene_map(\n",
    "    \"human\",\n",
    "    source_field=\"external_transcript_name\",\n",
    "    target_field=\"external_gene_name\",\n",
    ")\n",
    "transcript_name_gene_map_human.head(5)"
   ]
  },
  {
   "cell_type": "markdown",
   "metadata": {},
   "source": [
    "## Importing transcript quantification files\n",
    "\n",
    "You can easily import quantification files from tools like `salmon` with `pytximport`."
   ]
  },
  {
   "cell_type": "code",
   "execution_count": 5,
   "metadata": {},
   "outputs": [],
   "source": [
    "import numpy as np\n",
    "import pandas as pd\n",
    "from pytximport import tximport"
   ]
  },
  {
   "cell_type": "code",
   "execution_count": 6,
   "metadata": {},
   "outputs": [
    {
     "name": "stderr",
     "output_type": "stream",
     "text": [
      "Reading quantification files: 2it [00:00, 170.88it/s]\n"
     ]
    },
    {
     "data": {
      "text/html": [
       "<div><svg style=\"position: absolute; width: 0; height: 0; overflow: hidden\">\n",
       "<defs>\n",
       "<symbol id=\"icon-database\" viewBox=\"0 0 32 32\">\n",
       "<path d=\"M16 0c-8.837 0-16 2.239-16 5v4c0 2.761 7.163 5 16 5s16-2.239 16-5v-4c0-2.761-7.163-5-16-5z\"></path>\n",
       "<path d=\"M16 17c-8.837 0-16-2.239-16-5v6c0 2.761 7.163 5 16 5s16-2.239 16-5v-6c0 2.761-7.163 5-16 5z\"></path>\n",
       "<path d=\"M16 26c-8.837 0-16-2.239-16-5v6c0 2.761 7.163 5 16 5s16-2.239 16-5v-6c0 2.761-7.163 5-16 5z\"></path>\n",
       "</symbol>\n",
       "<symbol id=\"icon-file-text2\" viewBox=\"0 0 32 32\">\n",
       "<path d=\"M28.681 7.159c-0.694-0.947-1.662-2.053-2.724-3.116s-2.169-2.030-3.116-2.724c-1.612-1.182-2.393-1.319-2.841-1.319h-15.5c-1.378 0-2.5 1.121-2.5 2.5v27c0 1.378 1.122 2.5 2.5 2.5h23c1.378 0 2.5-1.122 2.5-2.5v-19.5c0-0.448-0.137-1.23-1.319-2.841zM24.543 5.457c0.959 0.959 1.712 1.825 2.268 2.543h-4.811v-4.811c0.718 0.556 1.584 1.309 2.543 2.268zM28 29.5c0 0.271-0.229 0.5-0.5 0.5h-23c-0.271 0-0.5-0.229-0.5-0.5v-27c0-0.271 0.229-0.5 0.5-0.5 0 0 15.499-0 15.5 0v7c0 0.552 0.448 1 1 1h7v19.5z\"></path>\n",
       "<path d=\"M23 26h-14c-0.552 0-1-0.448-1-1s0.448-1 1-1h14c0.552 0 1 0.448 1 1s-0.448 1-1 1z\"></path>\n",
       "<path d=\"M23 22h-14c-0.552 0-1-0.448-1-1s0.448-1 1-1h14c0.552 0 1 0.448 1 1s-0.448 1-1 1z\"></path>\n",
       "<path d=\"M23 18h-14c-0.552 0-1-0.448-1-1s0.448-1 1-1h14c0.552 0 1 0.448 1 1s-0.448 1-1 1z\"></path>\n",
       "</symbol>\n",
       "</defs>\n",
       "</svg>\n",
       "<style>/* CSS stylesheet for displaying xarray objects in jupyterlab.\n",
       " *\n",
       " */\n",
       "\n",
       ":root {\n",
       "  --xr-font-color0: var(--jp-content-font-color0, rgba(0, 0, 0, 1));\n",
       "  --xr-font-color2: var(--jp-content-font-color2, rgba(0, 0, 0, 0.54));\n",
       "  --xr-font-color3: var(--jp-content-font-color3, rgba(0, 0, 0, 0.38));\n",
       "  --xr-border-color: var(--jp-border-color2, #e0e0e0);\n",
       "  --xr-disabled-color: var(--jp-layout-color3, #bdbdbd);\n",
       "  --xr-background-color: var(--jp-layout-color0, white);\n",
       "  --xr-background-color-row-even: var(--jp-layout-color1, white);\n",
       "  --xr-background-color-row-odd: var(--jp-layout-color2, #eeeeee);\n",
       "}\n",
       "\n",
       "html[theme=dark],\n",
       "html[data-theme=dark],\n",
       "body[data-theme=dark],\n",
       "body.vscode-dark {\n",
       "  --xr-font-color0: rgba(255, 255, 255, 1);\n",
       "  --xr-font-color2: rgba(255, 255, 255, 0.54);\n",
       "  --xr-font-color3: rgba(255, 255, 255, 0.38);\n",
       "  --xr-border-color: #1F1F1F;\n",
       "  --xr-disabled-color: #515151;\n",
       "  --xr-background-color: #111111;\n",
       "  --xr-background-color-row-even: #111111;\n",
       "  --xr-background-color-row-odd: #313131;\n",
       "}\n",
       "\n",
       ".xr-wrap {\n",
       "  display: block !important;\n",
       "  min-width: 300px;\n",
       "  max-width: 700px;\n",
       "}\n",
       "\n",
       ".xr-text-repr-fallback {\n",
       "  /* fallback to plain text repr when CSS is not injected (untrusted notebook) */\n",
       "  display: none;\n",
       "}\n",
       "\n",
       ".xr-header {\n",
       "  padding-top: 6px;\n",
       "  padding-bottom: 6px;\n",
       "  margin-bottom: 4px;\n",
       "  border-bottom: solid 1px var(--xr-border-color);\n",
       "}\n",
       "\n",
       ".xr-header > div,\n",
       ".xr-header > ul {\n",
       "  display: inline;\n",
       "  margin-top: 0;\n",
       "  margin-bottom: 0;\n",
       "}\n",
       "\n",
       ".xr-obj-type,\n",
       ".xr-array-name {\n",
       "  margin-left: 2px;\n",
       "  margin-right: 10px;\n",
       "}\n",
       "\n",
       ".xr-obj-type {\n",
       "  color: var(--xr-font-color2);\n",
       "}\n",
       "\n",
       ".xr-sections {\n",
       "  padding-left: 0 !important;\n",
       "  display: grid;\n",
       "  grid-template-columns: 150px auto auto 1fr 0 20px 0 20px;\n",
       "}\n",
       "\n",
       ".xr-section-item {\n",
       "  display: contents;\n",
       "}\n",
       "\n",
       ".xr-section-item input {\n",
       "  display: inline-block;\n",
       "  opacity: 0;\n",
       "}\n",
       "\n",
       ".xr-section-item input + label {\n",
       "  color: var(--xr-disabled-color);\n",
       "}\n",
       "\n",
       ".xr-section-item input:enabled + label {\n",
       "  cursor: pointer;\n",
       "  color: var(--xr-font-color2);\n",
       "}\n",
       "\n",
       ".xr-section-item input:focus + label {\n",
       "  border: 2px solid var(--xr-font-color0);\n",
       "}\n",
       "\n",
       ".xr-section-item input:enabled + label:hover {\n",
       "  color: var(--xr-font-color0);\n",
       "}\n",
       "\n",
       ".xr-section-summary {\n",
       "  grid-column: 1;\n",
       "  color: var(--xr-font-color2);\n",
       "  font-weight: 500;\n",
       "}\n",
       "\n",
       ".xr-section-summary > span {\n",
       "  display: inline-block;\n",
       "  padding-left: 0.5em;\n",
       "}\n",
       "\n",
       ".xr-section-summary-in:disabled + label {\n",
       "  color: var(--xr-font-color2);\n",
       "}\n",
       "\n",
       ".xr-section-summary-in + label:before {\n",
       "  display: inline-block;\n",
       "  content: '►';\n",
       "  font-size: 11px;\n",
       "  width: 15px;\n",
       "  text-align: center;\n",
       "}\n",
       "\n",
       ".xr-section-summary-in:disabled + label:before {\n",
       "  color: var(--xr-disabled-color);\n",
       "}\n",
       "\n",
       ".xr-section-summary-in:checked + label:before {\n",
       "  content: '▼';\n",
       "}\n",
       "\n",
       ".xr-section-summary-in:checked + label > span {\n",
       "  display: none;\n",
       "}\n",
       "\n",
       ".xr-section-summary,\n",
       ".xr-section-inline-details {\n",
       "  padding-top: 4px;\n",
       "  padding-bottom: 4px;\n",
       "}\n",
       "\n",
       ".xr-section-inline-details {\n",
       "  grid-column: 2 / -1;\n",
       "}\n",
       "\n",
       ".xr-section-details {\n",
       "  display: none;\n",
       "  grid-column: 1 / -1;\n",
       "  margin-bottom: 5px;\n",
       "}\n",
       "\n",
       ".xr-section-summary-in:checked ~ .xr-section-details {\n",
       "  display: contents;\n",
       "}\n",
       "\n",
       ".xr-array-wrap {\n",
       "  grid-column: 1 / -1;\n",
       "  display: grid;\n",
       "  grid-template-columns: 20px auto;\n",
       "}\n",
       "\n",
       ".xr-array-wrap > label {\n",
       "  grid-column: 1;\n",
       "  vertical-align: top;\n",
       "}\n",
       "\n",
       ".xr-preview {\n",
       "  color: var(--xr-font-color3);\n",
       "}\n",
       "\n",
       ".xr-array-preview,\n",
       ".xr-array-data {\n",
       "  padding: 0 5px !important;\n",
       "  grid-column: 2;\n",
       "}\n",
       "\n",
       ".xr-array-data,\n",
       ".xr-array-in:checked ~ .xr-array-preview {\n",
       "  display: none;\n",
       "}\n",
       "\n",
       ".xr-array-in:checked ~ .xr-array-data,\n",
       ".xr-array-preview {\n",
       "  display: inline-block;\n",
       "}\n",
       "\n",
       ".xr-dim-list {\n",
       "  display: inline-block !important;\n",
       "  list-style: none;\n",
       "  padding: 0 !important;\n",
       "  margin: 0;\n",
       "}\n",
       "\n",
       ".xr-dim-list li {\n",
       "  display: inline-block;\n",
       "  padding: 0;\n",
       "  margin: 0;\n",
       "}\n",
       "\n",
       ".xr-dim-list:before {\n",
       "  content: '(';\n",
       "}\n",
       "\n",
       ".xr-dim-list:after {\n",
       "  content: ')';\n",
       "}\n",
       "\n",
       ".xr-dim-list li:not(:last-child):after {\n",
       "  content: ',';\n",
       "  padding-right: 5px;\n",
       "}\n",
       "\n",
       ".xr-has-index {\n",
       "  font-weight: bold;\n",
       "}\n",
       "\n",
       ".xr-var-list,\n",
       ".xr-var-item {\n",
       "  display: contents;\n",
       "}\n",
       "\n",
       ".xr-var-item > div,\n",
       ".xr-var-item label,\n",
       ".xr-var-item > .xr-var-name span {\n",
       "  background-color: var(--xr-background-color-row-even);\n",
       "  margin-bottom: 0;\n",
       "}\n",
       "\n",
       ".xr-var-item > .xr-var-name:hover span {\n",
       "  padding-right: 5px;\n",
       "}\n",
       "\n",
       ".xr-var-list > li:nth-child(odd) > div,\n",
       ".xr-var-list > li:nth-child(odd) > label,\n",
       ".xr-var-list > li:nth-child(odd) > .xr-var-name span {\n",
       "  background-color: var(--xr-background-color-row-odd);\n",
       "}\n",
       "\n",
       ".xr-var-name {\n",
       "  grid-column: 1;\n",
       "}\n",
       "\n",
       ".xr-var-dims {\n",
       "  grid-column: 2;\n",
       "}\n",
       "\n",
       ".xr-var-dtype {\n",
       "  grid-column: 3;\n",
       "  text-align: right;\n",
       "  color: var(--xr-font-color2);\n",
       "}\n",
       "\n",
       ".xr-var-preview {\n",
       "  grid-column: 4;\n",
       "}\n",
       "\n",
       ".xr-index-preview {\n",
       "  grid-column: 2 / 5;\n",
       "  color: var(--xr-font-color2);\n",
       "}\n",
       "\n",
       ".xr-var-name,\n",
       ".xr-var-dims,\n",
       ".xr-var-dtype,\n",
       ".xr-preview,\n",
       ".xr-attrs dt {\n",
       "  white-space: nowrap;\n",
       "  overflow: hidden;\n",
       "  text-overflow: ellipsis;\n",
       "  padding-right: 10px;\n",
       "}\n",
       "\n",
       ".xr-var-name:hover,\n",
       ".xr-var-dims:hover,\n",
       ".xr-var-dtype:hover,\n",
       ".xr-attrs dt:hover {\n",
       "  overflow: visible;\n",
       "  width: auto;\n",
       "  z-index: 1;\n",
       "}\n",
       "\n",
       ".xr-var-attrs,\n",
       ".xr-var-data,\n",
       ".xr-index-data {\n",
       "  display: none;\n",
       "  background-color: var(--xr-background-color) !important;\n",
       "  padding-bottom: 5px !important;\n",
       "}\n",
       "\n",
       ".xr-var-attrs-in:checked ~ .xr-var-attrs,\n",
       ".xr-var-data-in:checked ~ .xr-var-data,\n",
       ".xr-index-data-in:checked ~ .xr-index-data {\n",
       "  display: block;\n",
       "}\n",
       "\n",
       ".xr-var-data > table {\n",
       "  float: right;\n",
       "}\n",
       "\n",
       ".xr-var-name span,\n",
       ".xr-var-data,\n",
       ".xr-index-name div,\n",
       ".xr-index-data,\n",
       ".xr-attrs {\n",
       "  padding-left: 25px !important;\n",
       "}\n",
       "\n",
       ".xr-attrs,\n",
       ".xr-var-attrs,\n",
       ".xr-var-data,\n",
       ".xr-index-data {\n",
       "  grid-column: 1 / -1;\n",
       "}\n",
       "\n",
       "dl.xr-attrs {\n",
       "  padding: 0;\n",
       "  margin: 0;\n",
       "  display: grid;\n",
       "  grid-template-columns: 125px auto;\n",
       "}\n",
       "\n",
       ".xr-attrs dt,\n",
       ".xr-attrs dd {\n",
       "  padding: 0;\n",
       "  margin: 0;\n",
       "  float: left;\n",
       "  padding-right: 10px;\n",
       "  width: auto;\n",
       "}\n",
       "\n",
       ".xr-attrs dt {\n",
       "  font-weight: normal;\n",
       "  grid-column: 1;\n",
       "}\n",
       "\n",
       ".xr-attrs dt:hover span {\n",
       "  display: inline-block;\n",
       "  background: var(--xr-background-color);\n",
       "  padding-right: 10px;\n",
       "}\n",
       "\n",
       ".xr-attrs dd {\n",
       "  grid-column: 2;\n",
       "  white-space: pre-wrap;\n",
       "  word-break: break-all;\n",
       "}\n",
       "\n",
       ".xr-icon-database,\n",
       ".xr-icon-file-text2,\n",
       ".xr-no-icon {\n",
       "  display: inline-block;\n",
       "  vertical-align: middle;\n",
       "  width: 1em;\n",
       "  height: 1.5em !important;\n",
       "  stroke-width: 0;\n",
       "  stroke: currentColor;\n",
       "  fill: currentColor;\n",
       "}\n",
       "</style><pre class='xr-text-repr-fallback'>&lt;xarray.Dataset&gt; Size: 28kB\n",
       "Dimensions:    (gene_id: 496, file: 2, file_path: 2)\n",
       "Coordinates:\n",
       "  * gene_id    (gene_id) object 4kB &#x27;ENSMUSG00000083355&#x27; ... &#x27;ENSMUSG00000067...\n",
       "  * file_path  (file_path) &lt;U43 344B &#x27;../../test/data/salmon/multiple/Sample_...\n",
       "Dimensions without coordinates: file\n",
       "Data variables:\n",
       "    abundance  (gene_id, file) float64 8kB 0.08291 0.0 0.09854 ... 0.4618 0.0\n",
       "    counts     (gene_id, file) float64 8kB 1.005 0.0 1.086 ... 1.957 6.208 0.0\n",
       "    length     (gene_id, file) float64 8kB 509.1 509.1 445.8 ... 564.6 564.6</pre><div class='xr-wrap' style='display:none'><div class='xr-header'><div class='xr-obj-type'>xarray.Dataset</div></div><ul class='xr-sections'><li class='xr-section-item'><input id='section-3d5ceac9-f2ed-40d5-a7ae-aec977b7087f' class='xr-section-summary-in' type='checkbox' disabled ><label for='section-3d5ceac9-f2ed-40d5-a7ae-aec977b7087f' class='xr-section-summary'  title='Expand/collapse section'>Dimensions:</label><div class='xr-section-inline-details'><ul class='xr-dim-list'><li><span class='xr-has-index'>gene_id</span>: 496</li><li><span>file</span>: 2</li><li><span class='xr-has-index'>file_path</span>: 2</li></ul></div><div class='xr-section-details'></div></li><li class='xr-section-item'><input id='section-bc57db55-7b23-438d-8c85-80cc29a5fe41' class='xr-section-summary-in' type='checkbox'  checked><label for='section-bc57db55-7b23-438d-8c85-80cc29a5fe41' class='xr-section-summary' >Coordinates: <span>(2)</span></label><div class='xr-section-inline-details'></div><div class='xr-section-details'><ul class='xr-var-list'><li class='xr-var-item'><div class='xr-var-name'><span class='xr-has-index'>gene_id</span></div><div class='xr-var-dims'>(gene_id)</div><div class='xr-var-dtype'>object</div><div class='xr-var-preview xr-preview'>&#x27;ENSMUSG00000083355&#x27; ... &#x27;ENSMUS...</div><input id='attrs-39cddd8c-b723-439c-bc5d-54ae4dc468c5' class='xr-var-attrs-in' type='checkbox' disabled><label for='attrs-39cddd8c-b723-439c-bc5d-54ae4dc468c5' title='Show/Hide attributes'><svg class='icon xr-icon-file-text2'><use xlink:href='#icon-file-text2'></use></svg></label><input id='data-27aa0a63-81d2-414b-b1e6-1d6a1ed25393' class='xr-var-data-in' type='checkbox'><label for='data-27aa0a63-81d2-414b-b1e6-1d6a1ed25393' title='Show/Hide data repr'><svg class='icon xr-icon-database'><use xlink:href='#icon-database'></use></svg></label><div class='xr-var-attrs'><dl class='xr-attrs'></dl></div><div class='xr-var-data'><pre>array([&#x27;ENSMUSG00000083355&#x27;, &#x27;ENSMUSG00000029863&#x27;, &#x27;ENSMUSG00000049960&#x27;, ...,\n",
       "       &#x27;ENSMUSG00000026083&#x27;, &#x27;ENSMUSG00000014496&#x27;, &#x27;ENSMUSG00000067713&#x27;],\n",
       "      dtype=object)</pre></div></li><li class='xr-var-item'><div class='xr-var-name'><span class='xr-has-index'>file_path</span></div><div class='xr-var-dims'>(file_path)</div><div class='xr-var-dtype'>&lt;U43</div><div class='xr-var-preview xr-preview'>&#x27;../../test/data/salmon/multiple...</div><input id='attrs-c1f0781f-13f3-4a68-afd9-0437ac554817' class='xr-var-attrs-in' type='checkbox' disabled><label for='attrs-c1f0781f-13f3-4a68-afd9-0437ac554817' title='Show/Hide attributes'><svg class='icon xr-icon-file-text2'><use xlink:href='#icon-file-text2'></use></svg></label><input id='data-4b5c0410-38d6-462f-8488-dd5a7d00e2e0' class='xr-var-data-in' type='checkbox'><label for='data-4b5c0410-38d6-462f-8488-dd5a7d00e2e0' title='Show/Hide data repr'><svg class='icon xr-icon-database'><use xlink:href='#icon-database'></use></svg></label><div class='xr-var-attrs'><dl class='xr-attrs'></dl></div><div class='xr-var-data'><pre>array([&#x27;../../test/data/salmon/multiple/Sample_1.sf&#x27;,\n",
       "       &#x27;../../test/data/salmon/multiple/Sample_2.sf&#x27;], dtype=&#x27;&lt;U43&#x27;)</pre></div></li></ul></div></li><li class='xr-section-item'><input id='section-09059eca-e7a4-4242-b9d5-400190c3c666' class='xr-section-summary-in' type='checkbox'  checked><label for='section-09059eca-e7a4-4242-b9d5-400190c3c666' class='xr-section-summary' >Data variables: <span>(3)</span></label><div class='xr-section-inline-details'></div><div class='xr-section-details'><ul class='xr-var-list'><li class='xr-var-item'><div class='xr-var-name'><span>abundance</span></div><div class='xr-var-dims'>(gene_id, file)</div><div class='xr-var-dtype'>float64</div><div class='xr-var-preview xr-preview'>0.08291 0.0 0.09854 ... 0.4618 0.0</div><input id='attrs-2e1495f8-bd8b-4a34-9907-76112a0c5b45' class='xr-var-attrs-in' type='checkbox' disabled><label for='attrs-2e1495f8-bd8b-4a34-9907-76112a0c5b45' title='Show/Hide attributes'><svg class='icon xr-icon-file-text2'><use xlink:href='#icon-file-text2'></use></svg></label><input id='data-3b406109-ceb0-473f-94ae-17fb6a9579e1' class='xr-var-data-in' type='checkbox'><label for='data-3b406109-ceb0-473f-94ae-17fb6a9579e1' title='Show/Hide data repr'><svg class='icon xr-icon-database'><use xlink:href='#icon-database'></use></svg></label><div class='xr-var-attrs'><dl class='xr-attrs'></dl></div><div class='xr-var-data'><pre>array([[8.29050000e-02, 0.00000000e+00],\n",
       "       [9.85390000e-02, 9.29614000e-01],\n",
       "       [3.43083300e+00, 2.15451600e+00],\n",
       "       [0.00000000e+00, 1.89568000e-01],\n",
       "       [0.00000000e+00, 0.00000000e+00],\n",
       "       [1.50561100e+00, 1.84305700e+00],\n",
       "       [7.99723000e-01, 1.43710900e+00],\n",
       "       [0.00000000e+00, 0.00000000e+00],\n",
       "       [1.93595000e-01, 7.73340000e-02],\n",
       "       [7.69911000e-01, 0.00000000e+00],\n",
       "       [9.16987800e+00, 1.35594160e+01],\n",
       "       [1.97354200e+00, 2.92810000e-02],\n",
       "       [0.00000000e+00, 0.00000000e+00],\n",
       "       [1.28270000e-02, 0.00000000e+00],\n",
       "       [0.00000000e+00, 0.00000000e+00],\n",
       "       [6.43423800e+00, 4.93643900e+00],\n",
       "       [0.00000000e+00, 0.00000000e+00],\n",
       "       [1.10140700e+00, 9.39246000e-01],\n",
       "       [2.44760900e+00, 1.43153800e+00],\n",
       "       [0.00000000e+00, 0.00000000e+00],\n",
       "...\n",
       "       [2.24893670e+01, 3.21082450e+01],\n",
       "       [7.84671500e+00, 1.50813970e+01],\n",
       "       [3.14348600e+00, 4.56669300e+00],\n",
       "       [0.00000000e+00, 0.00000000e+00],\n",
       "       [0.00000000e+00, 0.00000000e+00],\n",
       "       [7.54244000e-01, 1.10770800e+00],\n",
       "       [0.00000000e+00, 0.00000000e+00],\n",
       "       [0.00000000e+00, 0.00000000e+00],\n",
       "       [0.00000000e+00, 0.00000000e+00],\n",
       "       [0.00000000e+00, 0.00000000e+00],\n",
       "       [5.40940700e+00, 1.59347900e+00],\n",
       "       [0.00000000e+00, 0.00000000e+00],\n",
       "       [0.00000000e+00, 0.00000000e+00],\n",
       "       [1.19304500e+00, 2.13321700e+00],\n",
       "       [1.32846400e+00, 5.72083000e-01],\n",
       "       [5.72512000e-01, 8.91610000e-01],\n",
       "       [0.00000000e+00, 0.00000000e+00],\n",
       "       [0.00000000e+00, 1.35071000e-01],\n",
       "       [1.35126000e-01, 3.30816000e-01],\n",
       "       [4.61785000e-01, 0.00000000e+00]])</pre></div></li><li class='xr-var-item'><div class='xr-var-name'><span>counts</span></div><div class='xr-var-dims'>(gene_id, file)</div><div class='xr-var-dtype'>float64</div><div class='xr-var-preview xr-preview'>1.005 0.0 1.086 ... 1.957 6.208 0.0</div><input id='attrs-21113cff-de7d-49da-a297-b491ab2482c0' class='xr-var-attrs-in' type='checkbox' disabled><label for='attrs-21113cff-de7d-49da-a297-b491ab2482c0' title='Show/Hide attributes'><svg class='icon xr-icon-file-text2'><use xlink:href='#icon-file-text2'></use></svg></label><input id='data-ec8bf1fd-0f9c-43d0-9914-8c2031974eaf' class='xr-var-data-in' type='checkbox'><label for='data-ec8bf1fd-0f9c-43d0-9914-8c2031974eaf' title='Show/Hide data repr'><svg class='icon xr-icon-database'><use xlink:href='#icon-database'></use></svg></label><div class='xr-var-attrs'><dl class='xr-attrs'></dl></div><div class='xr-var-data'><pre>array([[1.00505049e+00, 0.00000000e+00],\n",
       "       [1.08620160e+00, 8.01851033e+00],\n",
       "       [1.93498734e+02, 9.50860978e+01],\n",
       "       [0.00000000e+00, 1.22938529e+01],\n",
       "       [0.00000000e+00, 0.00000000e+00],\n",
       "       [1.02176402e+00, 9.78735510e-01],\n",
       "       [5.75799175e+01, 8.09673476e+01],\n",
       "       [0.00000000e+00, 0.00000000e+00],\n",
       "       [2.23321485e+01, 6.98064568e+00],\n",
       "       [1.90729362e+01, 0.00000000e+00],\n",
       "       [2.12788401e+02, 2.46214785e+02],\n",
       "       [8.83846492e+01, 1.02613647e+00],\n",
       "       [0.00000000e+00, 0.00000000e+00],\n",
       "       [1.00384677e+00, 0.00000000e+00],\n",
       "       [0.00000000e+00, 0.00000000e+00],\n",
       "       [2.01472531e+01, 1.20954282e+01],\n",
       "       [0.00000000e+00, 0.00000000e+00],\n",
       "       [3.79234546e+01, 2.53062716e+01],\n",
       "       [2.23309521e+01, 1.02201396e+01],\n",
       "       [0.00000000e+00, 0.00000000e+00],\n",
       "...\n",
       "       [3.18788077e+02, 3.56147711e+02],\n",
       "       [1.41203418e+02, 2.12367305e+02],\n",
       "       [1.91708055e+02, 2.17931194e+02],\n",
       "       [0.00000000e+00, 0.00000000e+00],\n",
       "       [0.00000000e+00, 0.00000000e+00],\n",
       "       [5.47568874e+00, 6.29275658e+00],\n",
       "       [0.00000000e+00, 0.00000000e+00],\n",
       "       [0.00000000e+00, 0.00000000e+00],\n",
       "       [0.00000000e+00, 0.00000000e+00],\n",
       "       [0.00000000e+00, 0.00000000e+00],\n",
       "       [1.98791544e+02, 4.58229816e+01],\n",
       "       [0.00000000e+00, 0.00000000e+00],\n",
       "       [0.00000000e+00, 0.00000000e+00],\n",
       "       [1.33784892e+01, 1.87186289e+01],\n",
       "       [9.39697412e+01, 3.16654770e+01],\n",
       "       [6.15625688e+01, 7.50232408e+01],\n",
       "       [0.00000000e+00, 0.00000000e+00],\n",
       "       [0.00000000e+00, 1.12011948e+00],\n",
       "       [1.02177262e+00, 1.95744965e+00],\n",
       "       [6.20806094e+00, 0.00000000e+00]])</pre></div></li><li class='xr-var-item'><div class='xr-var-name'><span>length</span></div><div class='xr-var-dims'>(gene_id, file)</div><div class='xr-var-dtype'>float64</div><div class='xr-var-preview xr-preview'>509.1 509.1 445.8 ... 564.6 564.6</div><input id='attrs-584c3928-fc43-42d2-81f6-8a0960442884' class='xr-var-attrs-in' type='checkbox' disabled><label for='attrs-584c3928-fc43-42d2-81f6-8a0960442884' title='Show/Hide attributes'><svg class='icon xr-icon-file-text2'><use xlink:href='#icon-file-text2'></use></svg></label><input id='data-2c0d4c11-3876-4ace-8727-57a52b15b5b6' class='xr-var-data-in' type='checkbox'><label for='data-2c0d4c11-3876-4ace-8727-57a52b15b5b6' title='Show/Hide data repr'><svg class='icon xr-icon-database'><use xlink:href='#icon-database'></use></svg></label><div class='xr-var-attrs'><dl class='xr-attrs'></dl></div><div class='xr-var-data'><pre>array([[5.09113000e+02, 5.09113000e+02],\n",
       "       [4.45830000e+02, 4.80017194e+02],\n",
       "       [2.36868400e+03, 2.36844900e+03],\n",
       "       [3.48049700e+03, 3.48049700e+03],\n",
       "       [2.88500000e+02, 2.88500000e+02],\n",
       "       [2.80000000e+01, 2.90000000e+01],\n",
       "       [3.01471500e+03, 3.03268200e+03],\n",
       "       [2.39500000e+02, 2.39500000e+02],\n",
       "       [4.82843400e+03, 4.86044200e+03],\n",
       "       [1.04036100e+03, 1.04036100e+03],\n",
       "       [9.75531000e+02, 9.73512000e+02],\n",
       "       [1.81782700e+02, 3.57977300e+03],\n",
       "       [6.32236650e+03, 6.32236650e+03],\n",
       "       [3.28661900e+03, 3.28661900e+03],\n",
       "       [3.80000000e+02, 3.80000000e+02],\n",
       "       [1.30000000e+02, 1.33000000e+02],\n",
       "       [2.55300000e+03, 2.55300000e+03],\n",
       "       [1.42713400e+03, 1.46485800e+03],\n",
       "       [3.85791000e+02, 3.80515000e+02],\n",
       "       [3.64000000e+02, 3.64000000e+02],\n",
       "...\n",
       "       [5.97977000e+02, 5.92612000e+02],\n",
       "       [7.62470000e+02, 7.48982000e+02],\n",
       "       [2.54616700e+03, 2.57614300e+03],\n",
       "       [4.26000000e+02, 4.26000000e+02],\n",
       "       [2.17180350e+03, 2.17180350e+03],\n",
       "       [3.00376000e+02, 3.09391000e+02],\n",
       "       [3.94000000e+02, 3.94000000e+02],\n",
       "       [2.60500000e+02, 2.60500000e+02],\n",
       "       [1.06300000e+03, 1.06300000e+03],\n",
       "       [7.18000000e+02, 7.18000000e+02],\n",
       "       [1.56210500e+03, 1.52453000e+03],\n",
       "       [1.66500000e+02, 1.66500000e+02],\n",
       "       [1.03600000e+03, 1.03600000e+03],\n",
       "       [4.73452000e+02, 4.68410000e+02],\n",
       "       [2.98930500e+03, 2.95191000e+03],\n",
       "       [4.51610800e+03, 4.51558500e+03],\n",
       "       [1.46500000e+02, 1.46500000e+02],\n",
       "       [4.45062000e+02, 4.45062000e+02],\n",
       "       [3.11983000e+02, 3.23132000e+02],\n",
       "       [5.64577000e+02, 5.64577000e+02]])</pre></div></li></ul></div></li><li class='xr-section-item'><input id='section-91cd5d7d-c7a8-49b2-bd59-ad380825e789' class='xr-section-summary-in' type='checkbox'  ><label for='section-91cd5d7d-c7a8-49b2-bd59-ad380825e789' class='xr-section-summary' >Indexes: <span>(2)</span></label><div class='xr-section-inline-details'></div><div class='xr-section-details'><ul class='xr-var-list'><li class='xr-var-item'><div class='xr-index-name'><div>gene_id</div></div><div class='xr-index-preview'>PandasIndex</div><div></div><input id='index-2919126d-db1c-4f20-8e50-e0e6b139ea91' class='xr-index-data-in' type='checkbox'/><label for='index-2919126d-db1c-4f20-8e50-e0e6b139ea91' title='Show/Hide index repr'><svg class='icon xr-icon-database'><use xlink:href='#icon-database'></use></svg></label><div class='xr-index-data'><pre>PandasIndex(Index([&#x27;ENSMUSG00000083355&#x27;, &#x27;ENSMUSG00000029863&#x27;, &#x27;ENSMUSG00000049960&#x27;,\n",
       "       &#x27;ENSMUSG00000031644&#x27;, &#x27;ENSMUSG00000021451&#x27;, &#x27;ENSMUSG00000088668&#x27;,\n",
       "       &#x27;ENSMUSG00000028970&#x27;, &#x27;ENSMUSG00000067377&#x27;, &#x27;ENSMUSG00000068748&#x27;,\n",
       "       &#x27;ENSMUSG00000022878&#x27;,\n",
       "       ...\n",
       "       &#x27;ENSMUSG00000001520&#x27;, &#x27;ENSMUSG00000085227&#x27;, &#x27;ENSMUSG00000109089&#x27;,\n",
       "       &#x27;ENSMUSG00000033530&#x27;, &#x27;ENSMUSG00000022538&#x27;, &#x27;ENSMUSG00000050379&#x27;,\n",
       "       &#x27;ENSMUSG00000074139&#x27;, &#x27;ENSMUSG00000026083&#x27;, &#x27;ENSMUSG00000014496&#x27;,\n",
       "       &#x27;ENSMUSG00000067713&#x27;],\n",
       "      dtype=&#x27;object&#x27;, name=&#x27;gene_id&#x27;, length=496))</pre></div></li><li class='xr-var-item'><div class='xr-index-name'><div>file_path</div></div><div class='xr-index-preview'>PandasIndex</div><div></div><input id='index-8ca1ad9e-4ec3-48aa-8432-9f58de9cd053' class='xr-index-data-in' type='checkbox'/><label for='index-8ca1ad9e-4ec3-48aa-8432-9f58de9cd053' title='Show/Hide index repr'><svg class='icon xr-icon-database'><use xlink:href='#icon-database'></use></svg></label><div class='xr-index-data'><pre>PandasIndex(Index([&#x27;../../test/data/salmon/multiple/Sample_1.sf&#x27;, &#x27;../../test/data/salmon/multiple/Sample_2.sf&#x27;], dtype=&#x27;object&#x27;, name=&#x27;file_path&#x27;))</pre></div></li></ul></div></li><li class='xr-section-item'><input id='section-3cb5c603-37b8-4b2e-8b63-96c2a2b3495b' class='xr-section-summary-in' type='checkbox' disabled ><label for='section-3cb5c603-37b8-4b2e-8b63-96c2a2b3495b' class='xr-section-summary'  title='Expand/collapse section'>Attributes: <span>(0)</span></label><div class='xr-section-inline-details'></div><div class='xr-section-details'><dl class='xr-attrs'></dl></div></li></ul></div></div>"
      ],
      "text/plain": [
       "<xarray.Dataset> Size: 28kB\n",
       "Dimensions:    (gene_id: 496, file: 2, file_path: 2)\n",
       "Coordinates:\n",
       "  * gene_id    (gene_id) object 4kB 'ENSMUSG00000083355' ... 'ENSMUSG00000067...\n",
       "  * file_path  (file_path) <U43 344B '../../test/data/salmon/multiple/Sample_...\n",
       "Dimensions without coordinates: file\n",
       "Data variables:\n",
       "    abundance  (gene_id, file) float64 8kB 0.08291 0.0 0.09854 ... 0.4618 0.0\n",
       "    counts     (gene_id, file) float64 8kB 1.005 0.0 1.086 ... 1.957 6.208 0.0\n",
       "    length     (gene_id, file) float64 8kB 509.1 509.1 445.8 ... 564.6 564.6"
      ]
     },
     "execution_count": 6,
     "metadata": {},
     "output_type": "execute_result"
    }
   ],
   "source": [
    "txi = tximport(\n",
    "    [\n",
    "        \"../../test/data/salmon/multiple/Sample_1.sf\",\n",
    "        \"../../test/data/salmon/multiple/Sample_2.sf\",\n",
    "    ],\n",
    "    \"salmon\",\n",
    "    transcript_gene_map_mouse,\n",
    "    counts_from_abundance=\"length_scaled_tpm\",\n",
    "    output_type=\"xarray\",  # or \"anndata\"\n",
    ")\n",
    "txi"
   ]
  },
  {
   "cell_type": "markdown",
   "metadata": {},
   "source": [
    "## Exporting transcript-level count estimates"
   ]
  },
  {
   "cell_type": "markdown",
   "metadata": {},
   "source": [
    "You can also export the transformed transcript counts directly for transcript-level analysis."
   ]
  },
  {
   "cell_type": "code",
   "execution_count": 7,
   "metadata": {},
   "outputs": [
    {
     "name": "stderr",
     "output_type": "stream",
     "text": [
      "Reading quantification files: 1it [00:00, 323.11it/s]\n"
     ]
    },
    {
     "data": {
      "text/plain": [
       "AnnData object with n_obs × n_vars = 1 × 14\n",
       "    uns: 'counts_from_abundance'\n",
       "    obsm: 'length', 'abundance'"
      ]
     },
     "execution_count": 7,
     "metadata": {},
     "output_type": "execute_result"
    }
   ],
   "source": [
    "txi = tximport(\n",
    "    [\"../../test/data/salmon/quant.sf\"],\n",
    "    \"salmon\",\n",
    "    counts_from_abundance=\"scaled_tpm\",\n",
    "    return_transcript_data=True,\n",
    ")\n",
    "txi"
   ]
  },
  {
   "cell_type": "markdown",
   "metadata": {},
   "source": [
    "Note that the example above works without a transcript to gene map. If you want to use the transcript names instead of the transcript ids, you can optionally use the `replace_transcript_ids_with_names` function together with a transcript id to transcript name map.\n",
    "We can use the `create_transcript_gene_map` function to create a map between transcript ids and transcript names, too."
   ]
  },
  {
   "cell_type": "code",
   "execution_count": 8,
   "metadata": {},
   "outputs": [],
   "source": [
    "from pytximport.utils import replace_transcript_ids_with_names"
   ]
  },
  {
   "cell_type": "code",
   "execution_count": 9,
   "metadata": {},
   "outputs": [
    {
     "data": {
      "text/html": [
       "<div>\n",
       "<style scoped>\n",
       "    .dataframe tbody tr th:only-of-type {\n",
       "        vertical-align: middle;\n",
       "    }\n",
       "\n",
       "    .dataframe tbody tr th {\n",
       "        vertical-align: top;\n",
       "    }\n",
       "\n",
       "    .dataframe thead th {\n",
       "        text-align: right;\n",
       "    }\n",
       "</style>\n",
       "<table border=\"1\" class=\"dataframe\">\n",
       "  <thead>\n",
       "    <tr style=\"text-align: right;\">\n",
       "      <th></th>\n",
       "      <th>transcript_id</th>\n",
       "      <th>transcript_name</th>\n",
       "    </tr>\n",
       "  </thead>\n",
       "  <tbody>\n",
       "    <tr>\n",
       "      <th>0</th>\n",
       "      <td>ENST00000387314</td>\n",
       "      <td>MT-TF-201</td>\n",
       "    </tr>\n",
       "    <tr>\n",
       "      <th>1</th>\n",
       "      <td>ENST00000389680</td>\n",
       "      <td>MT-RNR1-201</td>\n",
       "    </tr>\n",
       "    <tr>\n",
       "      <th>2</th>\n",
       "      <td>ENST00000387342</td>\n",
       "      <td>MT-TV-201</td>\n",
       "    </tr>\n",
       "    <tr>\n",
       "      <th>3</th>\n",
       "      <td>ENST00000387347</td>\n",
       "      <td>MT-RNR2-201</td>\n",
       "    </tr>\n",
       "    <tr>\n",
       "      <th>4</th>\n",
       "      <td>ENST00000386347</td>\n",
       "      <td>MT-TL1-201</td>\n",
       "    </tr>\n",
       "  </tbody>\n",
       "</table>\n",
       "</div>"
      ],
      "text/plain": [
       "     transcript_id transcript_name\n",
       "0  ENST00000387314       MT-TF-201\n",
       "1  ENST00000389680     MT-RNR1-201\n",
       "2  ENST00000387342       MT-TV-201\n",
       "3  ENST00000387347     MT-RNR2-201\n",
       "4  ENST00000386347      MT-TL1-201"
      ]
     },
     "execution_count": 9,
     "metadata": {},
     "output_type": "execute_result"
    }
   ],
   "source": [
    "transcript_name_map_human = create_transcript_gene_map(\"human\", target_field=\"external_transcript_name\")\n",
    "transcript_name_map_human.head(5)"
   ]
  },
  {
   "cell_type": "code",
   "execution_count": 10,
   "metadata": {},
   "outputs": [
    {
     "data": {
      "text/html": [
       "<div>\n",
       "<style scoped>\n",
       "    .dataframe tbody tr th:only-of-type {\n",
       "        vertical-align: middle;\n",
       "    }\n",
       "\n",
       "    .dataframe tbody tr th {\n",
       "        vertical-align: top;\n",
       "    }\n",
       "\n",
       "    .dataframe thead th {\n",
       "        text-align: right;\n",
       "    }\n",
       "</style>\n",
       "<table border=\"1\" class=\"dataframe\">\n",
       "  <thead>\n",
       "    <tr style=\"text-align: right;\">\n",
       "      <th></th>\n",
       "      <th>../../test/data/salmon/quant.sf</th>\n",
       "    </tr>\n",
       "  </thead>\n",
       "  <tbody>\n",
       "    <tr>\n",
       "      <th>HOXC8-201</th>\n",
       "      <td>4486.940412</td>\n",
       "    </tr>\n",
       "    <tr>\n",
       "      <th>UGT3A2-201</th>\n",
       "      <td>1307.314695</td>\n",
       "    </tr>\n",
       "    <tr>\n",
       "      <th>HOXC9-201</th>\n",
       "      <td>886.909534</td>\n",
       "    </tr>\n",
       "    <tr>\n",
       "      <th>HOXC4-202</th>\n",
       "      <td>749.069369</td>\n",
       "    </tr>\n",
       "    <tr>\n",
       "      <th>HOXC12-201</th>\n",
       "      <td>544.817685</td>\n",
       "    </tr>\n",
       "  </tbody>\n",
       "</table>\n",
       "</div>"
      ],
      "text/plain": [
       "            ../../test/data/salmon/quant.sf\n",
       "HOXC8-201                       4486.940412\n",
       "UGT3A2-201                      1307.314695\n",
       "HOXC9-201                        886.909534\n",
       "HOXC4-202                        749.069369\n",
       "HOXC12-201                       544.817685"
      ]
     },
     "execution_count": 10,
     "metadata": {},
     "output_type": "execute_result"
    }
   ],
   "source": [
    "txi = replace_transcript_ids_with_names(txi, transcript_name_map_human)\n",
    "pd.DataFrame(txi.X.T, index=txi.var.index, columns=txi.obs.index).sort_values(\n",
    "    by=txi.obs.index[0],\n",
    "    ascending=False,\n",
    ").head(5)"
   ]
  },
  {
   "cell_type": "markdown",
   "metadata": {},
   "source": [
    "The same data summarized to genes:"
   ]
  },
  {
   "cell_type": "code",
   "execution_count": 11,
   "metadata": {},
   "outputs": [
    {
     "name": "stderr",
     "output_type": "stream",
     "text": [
      "Reading quantification files: 1it [00:00, 114.91it/s]\n"
     ]
    },
    {
     "data": {
      "text/html": [
       "<div>\n",
       "<style scoped>\n",
       "    .dataframe tbody tr th:only-of-type {\n",
       "        vertical-align: middle;\n",
       "    }\n",
       "\n",
       "    .dataframe tbody tr th {\n",
       "        vertical-align: top;\n",
       "    }\n",
       "\n",
       "    .dataframe thead th {\n",
       "        text-align: right;\n",
       "    }\n",
       "</style>\n",
       "<table border=\"1\" class=\"dataframe\">\n",
       "  <thead>\n",
       "    <tr style=\"text-align: right;\">\n",
       "      <th></th>\n",
       "      <th>../../test/data/salmon/quant.sf</th>\n",
       "    </tr>\n",
       "  </thead>\n",
       "  <tbody>\n",
       "    <tr>\n",
       "      <th>HOXC8</th>\n",
       "      <td>4486.940412</td>\n",
       "    </tr>\n",
       "    <tr>\n",
       "      <th>UGT3A2</th>\n",
       "      <td>1506.597257</td>\n",
       "    </tr>\n",
       "    <tr>\n",
       "      <th>HOXC4</th>\n",
       "      <td>1152.964133</td>\n",
       "    </tr>\n",
       "    <tr>\n",
       "      <th>HOXC9</th>\n",
       "      <td>886.909534</td>\n",
       "    </tr>\n",
       "    <tr>\n",
       "      <th>HOXC12</th>\n",
       "      <td>544.817685</td>\n",
       "    </tr>\n",
       "  </tbody>\n",
       "</table>\n",
       "</div>"
      ],
      "text/plain": [
       "        ../../test/data/salmon/quant.sf\n",
       "HOXC8                       4486.940412\n",
       "UGT3A2                      1506.597257\n",
       "HOXC4                       1152.964133\n",
       "HOXC9                        886.909534\n",
       "HOXC12                       544.817685"
      ]
     },
     "execution_count": 11,
     "metadata": {},
     "output_type": "execute_result"
    }
   ],
   "source": [
    "txi = tximport(\n",
    "    [\"../../test/data/salmon/quant.sf\"],\n",
    "    \"salmon\",\n",
    "    transcript_gene_map_human,\n",
    "    counts_from_abundance=\"scaled_tpm\",\n",
    "    output_type=\"xarray\",\n",
    "    return_transcript_data=False,\n",
    ")\n",
    "pd.DataFrame(txi[\"counts\"], index=txi.coords[\"gene_id\"], columns=txi.coords[\"file_path\"]).sort_values(\n",
    "    by=txi.coords[\"file_path\"].data[0],\n",
    "    ascending=False,\n",
    ").head(5)"
   ]
  },
  {
   "cell_type": "markdown",
   "metadata": {},
   "source": [
    "Note that the top transcript corresponds to the top expressed gene in this case."
   ]
  },
  {
   "cell_type": "markdown",
   "metadata": {},
   "source": [
    "## Exporting AnnData files"
   ]
  },
  {
   "cell_type": "markdown",
   "metadata": {},
   "source": [
    "`pytximport` integrates well with other packages from the `scverse` through its `AnnData` export option."
   ]
  },
  {
   "cell_type": "code",
   "execution_count": 12,
   "metadata": {},
   "outputs": [
    {
     "name": "stderr",
     "output_type": "stream",
     "text": [
      "Reading quantification files: 1it [00:00, 332.99it/s]\n"
     ]
    },
    {
     "data": {
      "text/plain": [
       "AnnData object with n_obs × n_vars = 1 × 10\n",
       "    uns: 'counts_from_abundance'\n",
       "    obsm: 'length', 'abundance'"
      ]
     },
     "execution_count": 12,
     "metadata": {},
     "output_type": "execute_result"
    }
   ],
   "source": [
    "txi_ad = tximport(\n",
    "    [\"../../test/data/salmon/quant.sf\"],\n",
    "    \"salmon\",\n",
    "    transcript_gene_map_human,\n",
    "    output_type=\"anndata\",\n",
    "    # the output can optionally be saved to a file by uncommenting the following lines\n",
    "    # output_format=\"h5ad\",\n",
    "    # output_path=\"txi_ad.h5ad\",\n",
    ")\n",
    "txi_ad"
   ]
  },
  {
   "cell_type": "markdown",
   "metadata": {},
   "source": [
    "## Exporting SummarizedExperiment files"
   ]
  },
  {
   "cell_type": "markdown",
   "metadata": {},
   "source": [
    "Experiment support for SummarizedExperiment files is available through the [BiocPy](https://github.com/biocpy) ecosystem (unaffiliated). While not part of the core functionality of `pytximport`, this output type/format may be useful for interacting with other R software packages. The optional dependencies necessary to support SummarizedExperiment files can be installed via `pip install pytximport[biocpy]`."
   ]
  },
  {
   "cell_type": "code",
   "execution_count": 13,
   "metadata": {},
   "outputs": [
    {
     "name": "stderr",
     "output_type": "stream",
     "text": [
      "Reading quantification files: 1it [00:00, 372.03it/s]\n",
      "WARNING:root:Support for the SummarizedExperiment output type is experimental.\n"
     ]
    },
    {
     "data": {
      "text/plain": [
       "(['counts'],\n",
       " Names(['UGT3A2', 'HOXC6', 'HOXC9', 'HOXC11', 'HOXC4', 'HOXC10', 'HOXC13', 'HOXC5', 'HOXC8', 'HOXC12']),\n",
       " Names(['../../test/data/salmon/quant.sf']))"
      ]
     },
     "execution_count": 13,
     "metadata": {},
     "output_type": "execute_result"
    }
   ],
   "source": [
    "txi_se = tximport(\n",
    "    [\"../../test/data/salmon/quant.sf\"],\n",
    "    \"salmon\",\n",
    "    transcript_gene_map_human,\n",
    "    output_type=\"summarizedexperiment\",\n",
    "    # the output can optionally be saved to disk by uncommenting the following lines\n",
    "    # output_format=\"summarizedexperiment\",\n",
    "    # output_path=\"txi_se\",\n",
    ")\n",
    "txi_se.assay_names, txi_se.get_row_names(), txi_se.get_column_names()"
   ]
  },
  {
   "cell_type": "markdown",
   "metadata": {},
   "source": [
    "## Use from the command line\n",
    "\n",
    "You can run `pytximport` from the command line, too. Available options can be viewed via the `pytximport --help` command."
   ]
  },
  {
   "cell_type": "code",
   "execution_count": 14,
   "metadata": {},
   "outputs": [
    {
     "name": "stdout",
     "output_type": "stream",
     "text": [
      "2024-10-01 12:36:11,849: Starting the import.\n",
      "Reading quantification files: 1it [00:00, 114.33it/s]\n",
      "2024-10-01 12:36:12,137: Converting transcript-level expression to gene-level expression.\n",
      "2024-10-01 12:36:12,239: Matching gene_ids.\n",
      "2024-10-01 12:36:12,259: Creating gene abundance.\n",
      "2024-10-01 12:36:12,409: Creating gene counts.\n",
      "2024-10-01 12:36:12,409: Creating lengths.\n",
      "2024-10-01 12:36:12,409: Replacing missing lengths.\n",
      "2024-10-01 12:36:12,414: Creating gene expression dataset.\n",
      "2024-10-01 12:36:12,415: Saving the gene-level expression to: ../../test/data/salmon/quant.h5ad.\n",
      "2024-10-01 12:36:12,419: Finished the import in 0.57 seconds.\n"
     ]
    }
   ],
   "source": [
    "!pytximport -i ../../test/data/salmon/quant.sf -t \"salmon\" -m ../../test/data/gencode.v46.metadata.HGNC.tsv -of \"h5ad\" -ow -o ../../test/data/salmon/quant.h5ad"
   ]
  },
  {
   "cell_type": "markdown",
   "metadata": {},
   "source": [
    "## Inferential replicates"
   ]
  },
  {
   "cell_type": "markdown",
   "metadata": {},
   "source": [
    "`pytximport` can handle bootstraping replicates provided by `salmon` and `kallisto`. When `inferential_replicate_transformer` is set, the provided function is used to recalculate the counts and abundances for each sample based on the bootstraps."
   ]
  },
  {
   "cell_type": "code",
   "execution_count": 15,
   "metadata": {},
   "outputs": [
    {
     "name": "stderr",
     "output_type": "stream",
     "text": [
      "Reading quantification files: 4it [00:00,  9.55it/s]\n",
      "WARNING:root:Not all transcripts are present in the mapping. 31380 out of 253181 missing. Removing the missing transcripts.\n"
     ]
    },
    {
     "data": {
      "text/plain": [
       "AnnData object with n_obs × n_vars = 4 × 40768\n",
       "    uns: 'counts_from_abundance', 'inferential_replicates'\n",
       "    obsm: 'length', 'abundance', 'variance'"
      ]
     },
     "execution_count": 15,
     "metadata": {},
     "output_type": "execute_result"
    }
   ],
   "source": [
    "result = tximport(\n",
    "    [\n",
    "        \"../../test/data/fabry_disease/SRR16504309_wt/\",\n",
    "        \"../../test/data/fabry_disease/SRR16504310_wt/\",\n",
    "        \"../../test/data/fabry_disease/SRR16504311_ko/\",\n",
    "        \"../../test/data/fabry_disease/SRR16504312_ko/\",\n",
    "    ],\n",
    "    \"salmon\",\n",
    "    transcript_gene_map_human,\n",
    "    inferential_replicates=True,\n",
    "    inferential_replicate_variance=True,  # whether to calculate the variance of the inferential replicates\n",
    "    inferential_replicate_transformer=lambda x: np.median(x, axis=1),\n",
    "    counts_from_abundance=\"length_scaled_tpm\",\n",
    ")\n",
    "result"
   ]
  },
  {
   "cell_type": "markdown",
   "metadata": {},
   "source": [
    "## Downstream analysis with PyDESeq2\n",
    "\n",
    "The output from `pytximport` can easily be used for downstream analysis with `PyDESeq2`. For more information on `PyDESeq2`, please consult its [documentation](https://pydeseq2.readthedocs.io/en/latest/)."
   ]
  },
  {
   "cell_type": "code",
   "execution_count": 16,
   "metadata": {},
   "outputs": [
    {
     "name": "stdout",
     "output_type": "stream",
     "text": [
      "Note: you may need to restart the kernel to use updated packages.\n"
     ]
    }
   ],
   "source": [
    "%pip install pydeseq2 numba==0.60.0 decoupler adjustText omnipath tqdm ipywidgets seaborn -q"
   ]
  },
  {
   "cell_type": "code",
   "execution_count": 17,
   "metadata": {},
   "outputs": [],
   "source": [
    "from pydeseq2.dds import DeseqDataSet\n",
    "from pydeseq2.default_inference import DefaultInference\n",
    "from pydeseq2.ds import DeseqStats\n",
    "import decoupler as dc"
   ]
  },
  {
   "cell_type": "markdown",
   "metadata": {},
   "source": [
    "Load the .csv file generated by `pytximport` via the `output_path` argument or create it directly from the output of `pytximport`. In this case, we are working with the salmon quantification files from a public bulk RNA sequencing dataset: [Podocyte injury in Fabry nephropathy](https://www.ebi.ac.uk/ena/browser/view/PRJNA773084)"
   ]
  },
  {
   "cell_type": "markdown",
   "metadata": {},
   "source": [
    "Round count estimates (required by PyDESeq2) and add the corresponding metadata."
   ]
  },
  {
   "cell_type": "code",
   "execution_count": 18,
   "metadata": {},
   "outputs": [
    {
     "data": {
      "text/plain": [
       "AnnData object with n_obs × n_vars = 4 × 40768\n",
       "    obs: 'condition'\n",
       "    uns: 'counts_from_abundance', 'inferential_replicates'\n",
       "    obsm: 'length', 'abundance', 'variance'"
      ]
     },
     "execution_count": 18,
     "metadata": {},
     "output_type": "execute_result"
    }
   ],
   "source": [
    "result.X = result.X.round().astype(int)\n",
    "result.obs[\"condition\"] = [\"Control\", \"Control\", \"Disease\", \"Disease\"]\n",
    "result"
   ]
  },
  {
   "cell_type": "markdown",
   "metadata": {},
   "source": [
    "Filter genes with low counts out."
   ]
  },
  {
   "cell_type": "code",
   "execution_count": 19,
   "metadata": {},
   "outputs": [
    {
     "data": {
      "text/plain": [
       "AnnData object with n_obs × n_vars = 4 × 14714\n",
       "    obs: 'condition'\n",
       "    uns: 'counts_from_abundance', 'inferential_replicates'\n",
       "    obsm: 'length', 'abundance', 'variance'"
      ]
     },
     "execution_count": 19,
     "metadata": {},
     "output_type": "execute_result"
    }
   ],
   "source": [
    "result = result[:, result.X.max(axis=0) > 10].copy()\n",
    "result"
   ]
  },
  {
   "cell_type": "markdown",
   "metadata": {},
   "source": [
    "Now perform your `PyDESeq2` analysis."
   ]
  },
  {
   "cell_type": "code",
   "execution_count": 20,
   "metadata": {},
   "outputs": [],
   "source": [
    "dds = DeseqDataSet(\n",
    "    adata=result,\n",
    "    design_factors=\"condition\",\n",
    "    refit_cooks=True,\n",
    "    inference=DefaultInference(n_cpus=8),\n",
    "    quiet=True,\n",
    ")"
   ]
  },
  {
   "cell_type": "code",
   "execution_count": 21,
   "metadata": {},
   "outputs": [
    {
     "name": "stderr",
     "output_type": "stream",
     "text": [
      "/Users/au734063/Documents/code/pytximport-publish/pytximport/.venv/lib/python3.12/site-packages/pydeseq2/dds.py:490: UserWarning: As the residual degrees of freedom is less than 3, the distribution of log dispersions is especially asymmetric and likely to be poorly estimated by the MAD.\n",
      "  self.fit_dispersion_prior()\n"
     ]
    }
   ],
   "source": [
    "dds.deseq2()"
   ]
  },
  {
   "cell_type": "code",
   "execution_count": 22,
   "metadata": {},
   "outputs": [],
   "source": [
    "stat_result = DeseqStats(dds, contrast=(\"condition\", \"Disease\", \"Control\"), quiet=True)"
   ]
  },
  {
   "cell_type": "code",
   "execution_count": 23,
   "metadata": {},
   "outputs": [],
   "source": [
    "%%capture\n",
    "stat_result.summary()\n",
    "stat_result.lfc_shrink()"
   ]
  },
  {
   "cell_type": "code",
   "execution_count": 24,
   "metadata": {},
   "outputs": [
    {
     "data": {
      "image/png": "[encoded data removed]",
      "text/plain": [
       "<Figure size 1000x500 with 1 Axes>"
      ]
     },
     "metadata": {},
     "output_type": "display_data"
    }
   ],
   "source": [
    "dc.plot_volcano_df(\n",
    "    stat_result.results_df,\n",
    "    x=\"log2FoldChange\",\n",
    "    y=\"padj\",\n",
    "    sign_thr=0.01,\n",
    "    top=20,\n",
    "    figsize=(10, 5),\n",
    ")"
   ]
  },
  {
   "cell_type": "code",
   "execution_count": 25,
   "metadata": {},
   "outputs": [
    {
     "name": "stdout",
     "output_type": "stream",
     "text": [
      "Running ulm on mat with 1 samples and 14714 targets for 660 sources.\n"
     ]
    },
    {
     "data": {
      "image/png": "[encoded data removed]",
      "text/plain": [
       "<Figure size 500x300 with 2 Axes>"
      ]
     },
     "metadata": {},
     "output_type": "display_data"
    }
   ],
   "source": [
    "collectri = dc.get_collectri(organism=\"human\", split_complexes=False)\n",
    "mat = stat_result.results_df[[\"stat\"]].T.rename(index={\"stat\": \"disease.vs.control\"})\n",
    "tf_acts, tf_pvals = dc.run_ulm(mat=mat, net=collectri, verbose=True)\n",
    "dc.plot_barplot(acts=tf_acts, contrast=\"disease.vs.control\", top=10, vertical=False, figsize=(5, 3))"
   ]
  },
  {
   "cell_type": "markdown",
   "metadata": {},
   "source": [
    "We can also evaluate known pathways."
   ]
  },
  {
   "cell_type": "code",
   "execution_count": 26,
   "metadata": {},
   "outputs": [],
   "source": [
    "progeny = dc.get_progeny(top=500)\n",
    "pathway_acts, pathway_pvals = dc.run_mlm(mat=mat, net=progeny, min_n=5)"
   ]
  },
  {
   "cell_type": "code",
   "execution_count": 27,
   "metadata": {},
   "outputs": [
    {
     "data": {
      "image/png": "[encoded data removed]",
      "text/plain": [
       "<Figure size 500x300 with 2 Axes>"
      ]
     },
     "metadata": {},
     "output_type": "display_data"
    }
   ],
   "source": [
    "dc.plot_barplot(\n",
    "    acts=pathway_acts,\n",
    "    contrast=\"disease.vs.control\",\n",
    "    top=40,\n",
    "    vertical=False,\n",
    "    figsize=(5, 3),\n",
    ")"
   ]
  },
  {
   "cell_type": "markdown",
   "metadata": {},
   "source": [
    "Please refer to the `PyDESeq2` and the `decoupler` documentation for additional analyses."
   ]
  }
 ],
 "metadata": {
  "kernelspec": {
   "display_name": "Python 3",
   "language": "python",
   "name": "python3"
  },
  "language_info": {
   "codemirror_mode": {
    "name": "ipython",
    "version": 3
   },
   "file_extension": ".py",
   "mimetype": "text/x-python",
   "name": "python",
   "nbconvert_exporter": "python",
   "pygments_lexer": "ipython3",
   "version": "3.12.6"
  }
 },
 "nbformat": 4,
 "nbformat_minor": 2
}
